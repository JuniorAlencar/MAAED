{
 "cells": [
  {
   "cell_type": "code",
   "execution_count": null,
   "id": "4bbc67b1-fa1c-4469-9f2a-72e68cad2f48",
   "metadata": {
    "tags": []
   },
   "outputs": [],
   "source": [
    "import networkx as nx\n",
    "import numpy as np\n",
    "import matplotlib.pyplot as plt\n",
    "import pandas as pd\n",
    "import seaborn as sns\n",
    "# library to generate animated networks\n",
    "#!pip install pyvis\n",
    "from pyvis.network import Network"
   ]
  },
  {
   "cell_type": "code",
   "execution_count": null,
   "id": "9aef8034-606e-44f3-b203-70515791c71b",
   "metadata": {},
   "outputs": [],
   "source": [
    "df = pd.read_csv(\"./data/edges.csv\") # open file\n",
    "df.info() "
   ]
  },
  {
   "cell_type": "code",
   "execution_count": null,
   "id": "09dc5102-4d7c-4293-9282-369d74228ae1",
   "metadata": {},
   "outputs": [],
   "source": [
    "G = nx.from_pandas_edgelist(df,\"# source\", \" target\",create_using=nx.Graph) # Create network from data_frame"
   ]
  },
  {
   "cell_type": "code",
   "execution_count": null,
   "id": "e968998c-73fb-46e3-b235-b7d3aa642e40",
   "metadata": {},
   "outputs": [],
   "source": [
    "number_nodes_k = []                             # List of number of nodes (k_core)\n",
    "k_core = []                                     # List of all k_core\n",
    "degree_list = [v for d,v in G.degree()]         # List of degree for all nodes\n",
    "nodes_G = [v for v in G.nodes()]                # List of all nodes in original network"
   ]
  },
  {
   "cell_type": "code",
   "execution_count": null,
   "id": "ab3610ab-6d1b-4c60-a9d2-90fc5992636f",
   "metadata": {},
   "outputs": [],
   "source": [
    "dict_k_core = {}                                # Will save all sites in each k_core\n",
    "# np.unique select just single values in degree_list\n",
    "for i in np.unique(degree_list):\n",
    "    G_ = nx.k_core(G,k=i)                       # Define subgraph from k_core\n",
    "    dict_k_core[f\"k_core_{i}\"] = [v for v in G_.nodes()]\n",
    "    k_core.append(i)                            # Update k_core list\n",
    "    number_nodes_k.append(G_.number_of_nodes()) # Select number of nodes in subgraph\n",
    "    if(G_.number_of_nodes()==0):\n",
    "        G_.clear()                                  \n",
    "        break\n",
    "    G_.clear()                                  # Delete subgraph of memory "
   ]
  },
  {
   "cell_type": "code",
   "execution_count": null,
   "id": "d3ec6f1b-a5e0-43e9-ae85-13fc01adc735",
   "metadata": {},
   "outputs": [],
   "source": [
    "len(number_nodes_k)"
   ]
  },
  {
   "cell_type": "code",
   "execution_count": null,
   "id": "6717f2da-228d-4860-a3f7-784b054c4471",
   "metadata": {},
   "outputs": [],
   "source": [
    "# Create dataframe with all nodes in each k_core\n",
    "# ==> If node in k_core: 0, else: 1\n",
    "dataframe_k_core = {\"nodes_index\":nodes_G}\n",
    "for i in range(1,len(dict_k_core)):    \n",
    "    aux_list = np.zeros(len(nodes_G))\n",
    "    nodes_in_core = dict_k_core[f\"k_core_{i}\"]\n",
    "    for j in range(len(nodes_in_core)):\n",
    "        check_variable = nodes_in_core[j] in nodes_G\n",
    "        if(check_variable==True):\n",
    "            aux_list[j] = 1\n",
    "        else:\n",
    "            pass\n",
    "    dataframe_k_core[f\"k_core_{i}\"] = aux_list"
   ]
  },
  {
   "cell_type": "code",
   "execution_count": null,
   "id": "42916366-9b0c-44ec-9ff2-d1debcff565d",
   "metadata": {},
   "outputs": [],
   "source": [
    "# Dataframe it's create, but nodes aren't sorted. To order nodes keeping equivalent keys\n",
    "sorted_key = \"nodes_index\"\n",
    "sorted_values = sorted(dataframe_k_core[sorted_key])\n",
    "for key in dataframe_k_core:\n",
    "    dataframe_k_core[key] = [x for _, x in sorted(zip(dataframe_k_core[sorted_key], dataframe_k_core[key]))]\n",
    "df = pd.DataFrame(data=dataframe_k_core)\n",
    "df.to_csv(\"dataframe_k_core.csv\",index=False)"
   ]
  },
  {
   "cell_type": "code",
   "execution_count": null,
   "id": "5fe69053-53ac-49e8-925d-a07f99e89830",
   "metadata": {},
   "outputs": [],
   "source": [
    "# Check if number_of_nodes in dataframe it's right\n",
    "for j in range(1,len(number_nodes_k)):\n",
    "    aux_list = [i for i in df[f\"k_core_{j}\"].values if i==1] # List of all 1's elements\n",
    "    # If number_of_nodes it's equal aux_list\n",
    "    if(len(n)==number_nodes_k[j-1]):                  \n",
    "        print(f\"dataframe in k_core_{j} it's right\")\n",
    "    else:\n",
    "        print(f\"dataframe in k_core_{j} it's right\")"
   ]
  },
  {
   "cell_type": "code",
   "execution_count": null,
   "id": "89d81ebb-7568-40a9-8854-5db48f090416",
   "metadata": {},
   "outputs": [],
   "source": [
    "# Plot number_of_nodes(k_core)\n",
    "plt.figure(figsize=(16,8))\n",
    "ms= 12\n",
    "plt.plot(k_core,number_nodes_k,'o',ms=ms,mec=None,markerfacecolor='w')\n",
    "plt.xscale(\"log\")\n",
    "plt.ylabel(\"Number of nodes\",fontsize=20)\n",
    "plt.xlabel(r\"$k_{core}$\",fontsize=20)\n",
    "plt.xticks(fontsize=12)  \n",
    "plt.yticks(fontsize=12)  \n",
    "plt.show()"
   ]
  },
  {
   "cell_type": "code",
   "execution_count": null,
   "id": "ca4fdb47-8c60-47bb-8f2c-2397190bd0cf",
   "metadata": {},
   "outputs": [],
   "source": [
    "# Plot fraction_of_nodes(k_core)\n",
    "\n",
    "norm_number_nodes = [number_nodes_k[i]/G.number_of_nodes() for i in range(len(number_nodes_k))] # number_of_nodes(k_core)/number_of_nodes_initial\n",
    "\n",
    "plt.figure(figsize=(16,8))\n",
    "ms= 12\n",
    "plt.plot(k_core,norm_number_nodes,'o',ms=ms,mec=None,markerfacecolor='w')\n",
    "plt.xscale(\"log\")\n",
    "plt.ylabel(\"Fraction of nodes\",fontsize=20)\n",
    "plt.xlabel(r\"$k_{core}$\",fontsize=20)\n",
    "plt.xticks(fontsize=12)  # Adjust the fontsize as needed for the x-axis ticks\n",
    "plt.yticks(fontsize=12)  # Adjust the fontsize as needed for the y-axis ticks\n",
    "plt.show()"
   ]
  },
  {
   "cell_type": "code",
   "execution_count": null,
   "id": "81a7e293-1e05-40ed-9f24-a6f6cb882df4",
   "metadata": {},
   "outputs": [],
   "source": [
    "# Pairing to gml to read in gephi with the network with the highest k-core\n",
    "k_core_min = len(number_nodes_k)-1 # k_core min to graph non-empty\n",
    "G_min = nx.k_core(G,k=k_core_min)  # Network with k_core_min\n",
    "print(G_min.number_of_nodes())\n",
    "node_labels = pd.read_csv(\"./data/nodes.csv\")   # load nodeList.csv\n",
    "node_labels = node_labels.iloc[:, [0,1]] # Select just columns (index, name)\n",
    "node_labels.info()\n"
   ]
  },
  {
   "cell_type": "code",
   "execution_count": null,
   "id": "dd27f6dc-9871-4053-9c66-224d22635bd5",
   "metadata": {},
   "outputs": [],
   "source": [
    "#node_labels\n",
    "k_core_min = len(number_nodes_k)-1 # k_core min to graph non-empty\n",
    "G_min = nx.k_core(G,k=k_core_min)  # Network with k_core_min\n",
    "\n",
    "edges = G_min.edges() # Create iterator about edges graph\n",
    "\n",
    "new_source_list = [] # New source list with name in node_label\n",
    "new_target_list = [] # New target list with name in node_label\n",
    "'''\n",
    "for edge in edges:\n",
    "    source = edge[0]\n",
    "    target = edge[1]\n",
    "    print(source,target)\n",
    "'''\n",
    "for edge in edges: # Run for all edges\n",
    "    w_s = np.where(node_labels[\"# index\"]==edge[0]) # select the line where \"node_id\"=element in source\n",
    "    w_t = np.where(node_labels[\"# index\"]==edge[1]) # select the line where \"node_id\"=element in target\n",
    "    \n",
    "    author_s = node_labels[\" name\"][w_s[0][0]]  # selects the corresponding element in the author column (source)\n",
    "    author_t = node_labels[\" name\"][w_t[0][0]]  # selects the corresponding element in the author column (target)\n",
    "    \n",
    "    new_source_list.append(author_s)\n",
    "    new_target_list.append(author_t)\n",
    "con__ = [(new_source_list[i],new_target_list[i]) for i in range(G_min.number_of_edges())] # Create new tuples in list (source,target)\n",
    "G__=nx.from_edgelist(con__) # Create graph in networkx from new tuples\n",
    "nx.write_gml(G__,\"network_k_min.gml\",stringizer=None) # save network in .gml extension to read in gephi"
   ]
  },
  {
   "cell_type": "code",
   "execution_count": null,
   "id": "48bf57f4",
   "metadata": {
    "tags": []
   },
   "outputs": [],
   "source": []
  },
  {
   "cell_type": "code",
   "execution_count": null,
   "id": "a0d0937d",
   "metadata": {},
   "outputs": [],
   "source": [
    "# Criando a rede no pyvis.\n",
    "net = Network()\n",
    "\n",
    "#Desenhando os nós a partir do grafo do networkx.\n",
    "for node in G__.nodes():\n",
    "    net.add_node(node)\n",
    "\n",
    "#Desenhando as arestas a partir do grafo do networkx.\n",
    "for edge in G__.edges():\n",
    "    net.add_edge(edge[0], edge[1])\n",
    "\n",
    "# Calculando os tamanhos dos nós com base no grau dos nós.\n",
    "node_sizes = dict(G__.degree)\n",
    "\n",
    "scale=10 # Escala para aumentar os tamanhos dos nós.\n",
    "\n",
    "#Updating dict\n",
    "node_sizes.update((x, scale*y) for x, y in node_sizes.items())\n",
    "\n",
    "#Configurando os atributos dos nós\n",
    "nx.set_node_attributes(G__,node_sizes,'size')\n",
    "\n",
    "#Definindo uma padr]ao de vizualização no navegador\n",
    "G2 = Network(height=\"1000px\", width=\"100%\",font_color='White',bgcolor=\"#222222\",directed=False,select_menu=True)\n",
    "G2.from_nx(G__)\n",
    "\n",
    "#Colocando uma área de configuração de física\n",
    "G2.show_buttons(filter_=['physics'])\n",
    "\n",
    "# Aplique o layout de mola do NetworkX para organizar os nós\n",
    "G2.barnes_hut()\n",
    "\n",
    "#Salvando o grafo em um arquivo HTML\n",
    "G2.save_graph('grafo_animado.html')"
   ]
  },
  {
   "cell_type": "code",
   "execution_count": 1,
   "id": "83528af5-2be0-4ca9-9ed5-908d9f544e1b",
   "metadata": {},
   "outputs": [],
   "source": [
    "# Functions ==>\n",
    "# k_core_network(k_core_number) => function to open subgraph with k_core_number\n",
    "# k_core_number: integer number\n",
    "# save_network(G)             => function to save subgraph in gml_file (folder ./data/gml)\n",
    "# G: network object (network generate in open_network)\n",
    "\n",
    "import src.open_csv_core as functions"
   ]
  },
  {
   "cell_type": "code",
   "execution_count": 2,
   "id": "3a0f880c-7bbb-43a7-a875-83894a50aa63",
   "metadata": {},
   "outputs": [],
   "source": [
    "# Create subgraph from original graph, k_core = k_core_number and save in gml format\n",
    "# Open gephi and select .gml file to create network\n",
    "k_core_number = 10\n",
    "G_ = functions.k_core_network(k_core_number)\n",
    "functions.save_network(G_,k_core_number)"
   ]
  }
 ],
 "metadata": {
  "kernelspec": {
   "display_name": "Python 3 (ipykernel)",
   "language": "python",
   "name": "python3"
  },
  "language_info": {
   "codemirror_mode": {
    "name": "ipython",
    "version": 3
   },
   "file_extension": ".py",
   "mimetype": "text/x-python",
   "name": "python",
   "nbconvert_exporter": "python",
   "pygments_lexer": "ipython3",
   "version": "3.11.3"
  }
 },
 "nbformat": 4,
 "nbformat_minor": 5
}

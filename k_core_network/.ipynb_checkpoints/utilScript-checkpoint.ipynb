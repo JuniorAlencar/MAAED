{
 "cells": [
  {
   "cell_type": "code",
   "execution_count": 1,
   "id": "22c0f172",
   "metadata": {},
   "outputs": [],
   "source": [
    "import pandas as pd\n",
    "import numpy as np\n",
    "import networkx as nx"
   ]
  },
  {
   "cell_type": "code",
   "execution_count": 55,
   "id": "8e844758",
   "metadata": {},
   "outputs": [],
   "source": [
    "df = pd.read_csv(\"BrFlights2.csv\")"
   ]
  },
  {
   "cell_type": "code",
   "execution_count": 3,
   "id": "bd7b9c5e",
   "metadata": {},
   "outputs": [],
   "source": [
    "df = df.reindex(columns=['Cidade.Origem','Cidade.Destino','Codigo.Tipo.Linha'])"
   ]
  },
  {
   "cell_type": "code",
   "execution_count": 7,
   "id": "d113c6b5",
   "metadata": {},
   "outputs": [
    {
     "data": {
      "text/plain": [
       "array(['Internacional', 'Regional', 'Nacional'], dtype=object)"
      ]
     },
     "execution_count": 7,
     "metadata": {},
     "output_type": "execute_result"
    }
   ],
   "source": [
    "df['Codigo.Tipo.Linha'].unique()"
   ]
  },
  {
   "cell_type": "code",
   "execution_count": 6,
   "id": "164d1dad",
   "metadata": {},
   "outputs": [],
   "source": [
    "isn = (df['Codigo.Tipo.Linha'] == 'Nacional') | (df['Codigo.Tipo.Linha'] == 'Regional')\n",
    "dfbr = df[isn]"
   ]
  },
  {
   "cell_type": "code",
   "execution_count": 7,
   "id": "63a9cec8",
   "metadata": {},
   "outputs": [
    {
     "data": {
      "text/plain": [
       "array(['Regional', 'Nacional'], dtype=object)"
      ]
     },
     "execution_count": 7,
     "metadata": {},
     "output_type": "execute_result"
    }
   ],
   "source": [
    "dfbr['Codigo.Tipo.Linha'].unique()"
   ]
  },
  {
   "cell_type": "code",
   "execution_count": 8,
   "id": "7bb3c93f",
   "metadata": {},
   "outputs": [],
   "source": [
    "dfbr = dfbr.drop('Codigo.Tipo.Linha',axis=1)\n",
    "dfbr = dfbr.reset_index().drop('index',axis=1)"
   ]
  },
  {
   "cell_type": "code",
   "execution_count": 9,
   "id": "174f774e",
   "metadata": {},
   "outputs": [],
   "source": [
    "dfbr.columns = ['O','D']\n",
    "dfbr['weight'] = 1.0"
   ]
  },
  {
   "cell_type": "code",
   "execution_count": 10,
   "id": "3743289c",
   "metadata": {},
   "outputs": [],
   "source": [
    "dfbr = dfbr.groupby(['O','D']).sum().reset_index()"
   ]
  },
  {
   "cell_type": "code",
   "execution_count": 11,
   "id": "068948c6",
   "metadata": {},
   "outputs": [
    {
     "data": {
      "text/html": [
       "<div>\n",
       "<style scoped>\n",
       "    .dataframe tbody tr th:only-of-type {\n",
       "        vertical-align: middle;\n",
       "    }\n",
       "\n",
       "    .dataframe tbody tr th {\n",
       "        vertical-align: top;\n",
       "    }\n",
       "\n",
       "    .dataframe thead th {\n",
       "        text-align: right;\n",
       "    }\n",
       "</style>\n",
       "<table border=\"1\" class=\"dataframe\">\n",
       "  <thead>\n",
       "    <tr style=\"text-align: right;\">\n",
       "      <th></th>\n",
       "      <th>O</th>\n",
       "      <th>D</th>\n",
       "      <th>weight</th>\n",
       "    </tr>\n",
       "  </thead>\n",
       "  <tbody>\n",
       "    <tr>\n",
       "      <th>0</th>\n",
       "      <td>Alta Floresta</td>\n",
       "      <td>Varzea Grande</td>\n",
       "      <td>485.0</td>\n",
       "    </tr>\n",
       "    <tr>\n",
       "      <th>1</th>\n",
       "      <td>Altamira</td>\n",
       "      <td>Belem</td>\n",
       "      <td>1924.0</td>\n",
       "    </tr>\n",
       "    <tr>\n",
       "      <th>2</th>\n",
       "      <td>Altamira</td>\n",
       "      <td>Brasilia</td>\n",
       "      <td>120.0</td>\n",
       "    </tr>\n",
       "    <tr>\n",
       "      <th>3</th>\n",
       "      <td>Altamira</td>\n",
       "      <td>Imperatriz</td>\n",
       "      <td>42.0</td>\n",
       "    </tr>\n",
       "    <tr>\n",
       "      <th>4</th>\n",
       "      <td>Altamira</td>\n",
       "      <td>Itaituba</td>\n",
       "      <td>195.0</td>\n",
       "    </tr>\n",
       "  </tbody>\n",
       "</table>\n",
       "</div>"
      ],
      "text/plain": [
       "               O              D  weight\n",
       "0  Alta Floresta  Varzea Grande   485.0\n",
       "1       Altamira          Belem  1924.0\n",
       "2       Altamira       Brasilia   120.0\n",
       "3       Altamira     Imperatriz    42.0\n",
       "4       Altamira       Itaituba   195.0"
      ]
     },
     "execution_count": 11,
     "metadata": {},
     "output_type": "execute_result"
    }
   ],
   "source": [
    "dfbr.head()"
   ]
  },
  {
   "cell_type": "code",
   "execution_count": 21,
   "id": "0abafead",
   "metadata": {},
   "outputs": [],
   "source": [
    "aux = pd.read_csv(\"cleanedPib.csv\")"
   ]
  },
  {
   "cell_type": "code",
   "execution_count": 22,
   "id": "a932e6dd",
   "metadata": {},
   "outputs": [
    {
     "data": {
      "text/html": [
       "<div>\n",
       "<style scoped>\n",
       "    .dataframe tbody tr th:only-of-type {\n",
       "        vertical-align: middle;\n",
       "    }\n",
       "\n",
       "    .dataframe tbody tr th {\n",
       "        vertical-align: top;\n",
       "    }\n",
       "\n",
       "    .dataframe thead th {\n",
       "        text-align: right;\n",
       "    }\n",
       "</style>\n",
       "<table border=\"1\" class=\"dataframe\">\n",
       "  <thead>\n",
       "    <tr style=\"text-align: right;\">\n",
       "      <th></th>\n",
       "      <th>Ano</th>\n",
       "      <th>Código do Município</th>\n",
       "      <th>Vaagro</th>\n",
       "      <th>Vaserviço</th>\n",
       "      <th>Vaadministração</th>\n",
       "      <th>Vatotal</th>\n",
       "      <th>PIB</th>\n",
       "      <th>PIBp</th>\n",
       "      <th>pop</th>\n",
       "    </tr>\n",
       "  </thead>\n",
       "  <tbody>\n",
       "    <tr>\n",
       "      <th>0</th>\n",
       "      <td>2010</td>\n",
       "      <td>1100015</td>\n",
       "      <td>69260</td>\n",
       "      <td>62496</td>\n",
       "      <td>93245</td>\n",
       "      <td>241120</td>\n",
       "      <td>262077000</td>\n",
       "      <td>10731.18</td>\n",
       "      <td>24422.011372</td>\n",
       "    </tr>\n",
       "    <tr>\n",
       "      <th>1</th>\n",
       "      <td>2010</td>\n",
       "      <td>1100023</td>\n",
       "      <td>73712</td>\n",
       "      <td>494946</td>\n",
       "      <td>343868</td>\n",
       "      <td>1199664</td>\n",
       "      <td>1364694000</td>\n",
       "      <td>15103.86</td>\n",
       "      <td>90353.988980</td>\n",
       "    </tr>\n",
       "    <tr>\n",
       "      <th>2</th>\n",
       "      <td>2010</td>\n",
       "      <td>1100031</td>\n",
       "      <td>24301</td>\n",
       "      <td>12677</td>\n",
       "      <td>25170</td>\n",
       "      <td>65401</td>\n",
       "      <td>69611000</td>\n",
       "      <td>11033.62</td>\n",
       "      <td>6308.990159</td>\n",
       "    </tr>\n",
       "    <tr>\n",
       "      <th>3</th>\n",
       "      <td>2010</td>\n",
       "      <td>1100049</td>\n",
       "      <td>95259</td>\n",
       "      <td>465447</td>\n",
       "      <td>298454</td>\n",
       "      <td>1041212</td>\n",
       "      <td>1186494000</td>\n",
       "      <td>15095.15</td>\n",
       "      <td>78601.007608</td>\n",
       "    </tr>\n",
       "    <tr>\n",
       "      <th>4</th>\n",
       "      <td>2010</td>\n",
       "      <td>1100056</td>\n",
       "      <td>28976</td>\n",
       "      <td>80725</td>\n",
       "      <td>63018</td>\n",
       "      <td>192454</td>\n",
       "      <td>222021000</td>\n",
       "      <td>13037.06</td>\n",
       "      <td>17029.989890</td>\n",
       "    </tr>\n",
       "  </tbody>\n",
       "</table>\n",
       "</div>"
      ],
      "text/plain": [
       "    Ano  Código do Município Vaagro  Vaserviço  Vaadministração  Vatotal  \\\n",
       "0  2010              1100015  69260      62496            93245   241120   \n",
       "1  2010              1100023  73712     494946           343868  1199664   \n",
       "2  2010              1100031  24301      12677            25170    65401   \n",
       "3  2010              1100049  95259     465447           298454  1041212   \n",
       "4  2010              1100056  28976      80725            63018   192454   \n",
       "\n",
       "          PIB      PIBp           pop  \n",
       "0   262077000  10731.18  24422.011372  \n",
       "1  1364694000  15103.86  90353.988980  \n",
       "2    69611000  11033.62   6308.990159  \n",
       "3  1186494000  15095.15  78601.007608  \n",
       "4   222021000  13037.06  17029.989890  "
      ]
     },
     "execution_count": 22,
     "metadata": {},
     "output_type": "execute_result"
    }
   ],
   "source": [
    "aux.head()"
   ]
  },
  {
   "cell_type": "code",
   "execution_count": 12,
   "id": "09e1cd4f",
   "metadata": {},
   "outputs": [
    {
     "data": {
      "text/html": [
       "<div>\n",
       "<style scoped>\n",
       "    .dataframe tbody tr th:only-of-type {\n",
       "        vertical-align: middle;\n",
       "    }\n",
       "\n",
       "    .dataframe tbody tr th {\n",
       "        vertical-align: top;\n",
       "    }\n",
       "\n",
       "    .dataframe thead th {\n",
       "        text-align: right;\n",
       "    }\n",
       "</style>\n",
       "<table border=\"1\" class=\"dataframe\">\n",
       "  <thead>\n",
       "    <tr style=\"text-align: right;\">\n",
       "      <th></th>\n",
       "      <th>O</th>\n",
       "      <th>D</th>\n",
       "      <th>weight</th>\n",
       "    </tr>\n",
       "  </thead>\n",
       "  <tbody>\n",
       "    <tr>\n",
       "      <th>0</th>\n",
       "      <td>Alta Floresta</td>\n",
       "      <td>Varzea Grande</td>\n",
       "      <td>485.0</td>\n",
       "    </tr>\n",
       "    <tr>\n",
       "      <th>1</th>\n",
       "      <td>Altamira</td>\n",
       "      <td>Belem</td>\n",
       "      <td>1924.0</td>\n",
       "    </tr>\n",
       "    <tr>\n",
       "      <th>2</th>\n",
       "      <td>Altamira</td>\n",
       "      <td>Brasilia</td>\n",
       "      <td>120.0</td>\n",
       "    </tr>\n",
       "    <tr>\n",
       "      <th>3</th>\n",
       "      <td>Altamira</td>\n",
       "      <td>Imperatriz</td>\n",
       "      <td>42.0</td>\n",
       "    </tr>\n",
       "    <tr>\n",
       "      <th>4</th>\n",
       "      <td>Altamira</td>\n",
       "      <td>Itaituba</td>\n",
       "      <td>195.0</td>\n",
       "    </tr>\n",
       "  </tbody>\n",
       "</table>\n",
       "</div>"
      ],
      "text/plain": [
       "               O              D  weight\n",
       "0  Alta Floresta  Varzea Grande   485.0\n",
       "1       Altamira          Belem  1924.0\n",
       "2       Altamira       Brasilia   120.0\n",
       "3       Altamira     Imperatriz    42.0\n",
       "4       Altamira       Itaituba   195.0"
      ]
     },
     "execution_count": 12,
     "metadata": {},
     "output_type": "execute_result"
    }
   ],
   "source": [
    "dfbr.head()"
   ]
  },
  {
   "cell_type": "code",
   "execution_count": 24,
   "id": "02c5e21b",
   "metadata": {},
   "outputs": [
    {
     "data": {
      "text/plain": [
       "1097.2305854241338"
      ]
     },
     "execution_count": 24,
     "metadata": {},
     "output_type": "execute_result"
    }
   ],
   "source": [
    "dfbr['weight'].mean()"
   ]
  },
  {
   "cell_type": "code",
   "execution_count": 25,
   "id": "04fa00cd",
   "metadata": {},
   "outputs": [
    {
     "data": {
      "text/plain": [
       "512.0"
      ]
     },
     "execution_count": 25,
     "metadata": {},
     "output_type": "execute_result"
    }
   ],
   "source": [
    "dfbr['weight'].median()"
   ]
  },
  {
   "cell_type": "code",
   "execution_count": 26,
   "id": "3bcbd460",
   "metadata": {},
   "outputs": [],
   "source": [
    "import seaborn as sns"
   ]
  },
  {
   "cell_type": "code",
   "execution_count": 30,
   "id": "df34f4b1",
   "metadata": {},
   "outputs": [
    {
     "name": "stderr",
     "output_type": "stream",
     "text": [
      "/home/sampaio/.local/lib/python3.10/site-packages/seaborn/axisgrid.py:118: UserWarning: The figure layout has changed to tight\n",
      "  self._figure.tight_layout(*args, **kwargs)\n"
     ]
    },
    {
     "data": {
      "text/plain": [
       "<seaborn.axisgrid.FacetGrid at 0x7f709b65f250>"
      ]
     },
     "execution_count": 30,
     "metadata": {},
     "output_type": "execute_result"
    },
    {
     "data": {
      "image/png": "[encoded data removed]",
      "text/plain": [
       "<Figure size 500x500 with 1 Axes>"
      ]
     },
     "metadata": {},
     "output_type": "display_data"
    }
   ],
   "source": [
    "sns.displot(data=dfbr, x=\"weight\")"
   ]
  },
  {
   "cell_type": "code",
   "execution_count": 23,
   "id": "2b191da8",
   "metadata": {},
   "outputs": [],
   "source": [
    "G = nx.from_pandas_edgelist(dfbr,'O','D','weight',create_using=nx.DiGraph)"
   ]
  },
  {
   "cell_type": "code",
   "execution_count": 24,
   "id": "601ddf30",
   "metadata": {},
   "outputs": [
    {
     "data": {
      "text/plain": [
       "networkx.classes.digraph.DiGraph"
      ]
     },
     "execution_count": 24,
     "metadata": {},
     "output_type": "execute_result"
    }
   ],
   "source": [
    "type(G)"
   ]
  },
  {
   "cell_type": "code",
   "execution_count": 33,
   "id": "2fb3529d",
   "metadata": {},
   "outputs": [
    {
     "data": {
      "text/plain": [
       "114"
      ]
     },
     "execution_count": 33,
     "metadata": {},
     "output_type": "execute_result"
    }
   ],
   "source": [
    "G.order()"
   ]
  },
  {
   "cell_type": "code",
   "execution_count": 34,
   "id": "ff7ffb20",
   "metadata": {},
   "outputs": [
    {
     "data": {
      "text/plain": [
       "837"
      ]
     },
     "execution_count": 34,
     "metadata": {},
     "output_type": "execute_result"
    }
   ],
   "source": [
    "G.size()"
   ]
  },
  {
   "cell_type": "code",
   "execution_count": 35,
   "id": "8ba4b9bc",
   "metadata": {},
   "outputs": [
    {
     "data": {
      "text/plain": [
       "(837, 3)"
      ]
     },
     "execution_count": 35,
     "metadata": {},
     "output_type": "execute_result"
    }
   ],
   "source": [
    "dfbr.shape"
   ]
  },
  {
   "cell_type": "code",
   "execution_count": 38,
   "id": "3fd0a7fa",
   "metadata": {},
   "outputs": [
    {
     "data": {
      "text/plain": [
       "114"
      ]
     },
     "execution_count": 38,
     "metadata": {},
     "output_type": "execute_result"
    }
   ],
   "source": [
    "dfbr['D'].nunique()"
   ]
  },
  {
   "cell_type": "code",
   "execution_count": 39,
   "id": "ff087620",
   "metadata": {},
   "outputs": [],
   "source": [
    "### Commands to deal with diGraphs\n",
    "###   largest = max(nx.strongly_connected_components(G), key=len)\n",
    "##    len(largest)\n",
    "##"
   ]
  },
  {
   "cell_type": "code",
   "execution_count": 40,
   "id": "03329ad2",
   "metadata": {},
   "outputs": [],
   "source": [
    "## Commands to deals with Graph -> Dataframe:\n",
    "##inD = dict(G.in_degree())\n",
    "##kin = pd.Series(inD)\n",
    "#\n",
    "##outD = dict(G.out_degree())\n",
    "##kout = pd.Series(outD)\n",
    "#\n",
    "##winD = dict(G.in_degree(weight='weight'))\n",
    "##win = pd.Series(winD)\n",
    "#\n",
    "##woutD = dict(G.out_degree(weight='weight'))\n",
    "##wout = pd.Series(woutD)"
   ]
  },
  {
   "cell_type": "code",
   "execution_count": 25,
   "id": "46dc280a",
   "metadata": {},
   "outputs": [],
   "source": [
    "kin = pd.Series(dict(G.in_degree()))\n",
    "kout = pd.Series(dict(G.in_degree()))"
   ]
  },
  {
   "cell_type": "code",
   "execution_count": 16,
   "id": "d221d34a",
   "metadata": {},
   "outputs": [],
   "source": [
    "dfG = pd.DataFrame()\n",
    "dfG['kin'] = kin\n",
    "dfG['kout'] = kout"
   ]
  },
  {
   "cell_type": "code",
   "execution_count": 17,
   "id": "bc884132",
   "metadata": {},
   "outputs": [
    {
     "data": {
      "text/html": [
       "<div>\n",
       "<style scoped>\n",
       "    .dataframe tbody tr th:only-of-type {\n",
       "        vertical-align: middle;\n",
       "    }\n",
       "\n",
       "    .dataframe tbody tr th {\n",
       "        vertical-align: top;\n",
       "    }\n",
       "\n",
       "    .dataframe thead th {\n",
       "        text-align: right;\n",
       "    }\n",
       "</style>\n",
       "<table border=\"1\" class=\"dataframe\">\n",
       "  <thead>\n",
       "    <tr style=\"text-align: right;\">\n",
       "      <th></th>\n",
       "      <th>kin</th>\n",
       "      <th>kout</th>\n",
       "    </tr>\n",
       "  </thead>\n",
       "  <tbody>\n",
       "    <tr>\n",
       "      <th>Campinas</th>\n",
       "      <td>55</td>\n",
       "      <td>55</td>\n",
       "    </tr>\n",
       "    <tr>\n",
       "      <th>Brasilia</th>\n",
       "      <td>48</td>\n",
       "      <td>48</td>\n",
       "    </tr>\n",
       "    <tr>\n",
       "      <th>Guarulhos</th>\n",
       "      <td>47</td>\n",
       "      <td>47</td>\n",
       "    </tr>\n",
       "    <tr>\n",
       "      <th>Confins</th>\n",
       "      <td>46</td>\n",
       "      <td>46</td>\n",
       "    </tr>\n",
       "    <tr>\n",
       "      <th>Sao Paulo</th>\n",
       "      <td>36</td>\n",
       "      <td>36</td>\n",
       "    </tr>\n",
       "    <tr>\n",
       "      <th>Rio De Janeiro</th>\n",
       "      <td>31</td>\n",
       "      <td>31</td>\n",
       "    </tr>\n",
       "    <tr>\n",
       "      <th>Recife</th>\n",
       "      <td>27</td>\n",
       "      <td>27</td>\n",
       "    </tr>\n",
       "    <tr>\n",
       "      <th>Manaus</th>\n",
       "      <td>23</td>\n",
       "      <td>23</td>\n",
       "    </tr>\n",
       "    <tr>\n",
       "      <th>Salvador</th>\n",
       "      <td>22</td>\n",
       "      <td>22</td>\n",
       "    </tr>\n",
       "    <tr>\n",
       "      <th>Varzea Grande</th>\n",
       "      <td>22</td>\n",
       "      <td>22</td>\n",
       "    </tr>\n",
       "  </tbody>\n",
       "</table>\n",
       "</div>"
      ],
      "text/plain": [
       "                kin  kout\n",
       "Campinas         55    55\n",
       "Brasilia         48    48\n",
       "Guarulhos        47    47\n",
       "Confins          46    46\n",
       "Sao Paulo        36    36\n",
       "Rio De Janeiro   31    31\n",
       "Recife           27    27\n",
       "Manaus           23    23\n",
       "Salvador         22    22\n",
       "Varzea Grande    22    22"
      ]
     },
     "execution_count": 17,
     "metadata": {},
     "output_type": "execute_result"
    }
   ],
   "source": [
    "dfG.sort_values(by='kin',ascending=False).head(10)"
   ]
  },
  {
   "cell_type": "code",
   "execution_count": 26,
   "id": "b50beb7e",
   "metadata": {},
   "outputs": [],
   "source": [
    "win = pd.Series(dict(G.in_degree(weight='weight')))\n",
    "wout = pd.Series(dict(G.out_degree(weight='weight')))"
   ]
  },
  {
   "cell_type": "code",
   "execution_count": 54,
   "id": "17932816",
   "metadata": {},
   "outputs": [
    {
     "data": {
      "text/plain": [
       "kin     16\n",
       "kout    16\n",
       "Name: Fortaleza, dtype: int64"
      ]
     },
     "execution_count": 54,
     "metadata": {},
     "output_type": "execute_result"
    }
   ],
   "source": [
    "dfG.loc['Fortaleza']"
   ]
  },
  {
   "cell_type": "code",
   "execution_count": 19,
   "id": "0ffe9fca",
   "metadata": {},
   "outputs": [],
   "source": [
    "largest = max(nx.strongly_connected_components(G), key=len)"
   ]
  },
  {
   "cell_type": "code",
   "execution_count": 20,
   "id": "902529b7",
   "metadata": {},
   "outputs": [
    {
     "data": {
      "text/plain": [
       "1.0"
      ]
     },
     "execution_count": 20,
     "metadata": {},
     "output_type": "execute_result"
    }
   ],
   "source": [
    "len(largest)/G.order()"
   ]
  },
  {
   "cell_type": "code",
   "execution_count": 60,
   "id": "55e4d0d4",
   "metadata": {},
   "outputs": [],
   "source": [
    "M = G.size()\n",
    "N = G.order()\n",
    "d = (M*2.0)/(N*(N-1))"
   ]
  },
  {
   "cell_type": "code",
   "execution_count": 61,
   "id": "8bcaaa91",
   "metadata": {},
   "outputs": [
    {
     "data": {
      "text/plain": [
       "0.12994876571960876"
      ]
     },
     "execution_count": 61,
     "metadata": {},
     "output_type": "execute_result"
    }
   ],
   "source": [
    "d"
   ]
  },
  {
   "cell_type": "code",
   "execution_count": 27,
   "id": "65921be2",
   "metadata": {},
   "outputs": [],
   "source": [
    "dfG = pd.DataFrame()\n",
    "dfG['kin'] = kin\n",
    "dfG['kout'] = kout\n",
    "dfG['win'] = win\n",
    "dfG['wout'] = wout"
   ]
  },
  {
   "cell_type": "code",
   "execution_count": 28,
   "id": "d2177635",
   "metadata": {},
   "outputs": [
    {
     "data": {
      "text/html": [
       "<div>\n",
       "<style scoped>\n",
       "    .dataframe tbody tr th:only-of-type {\n",
       "        vertical-align: middle;\n",
       "    }\n",
       "\n",
       "    .dataframe tbody tr th {\n",
       "        vertical-align: top;\n",
       "    }\n",
       "\n",
       "    .dataframe thead th {\n",
       "        text-align: right;\n",
       "    }\n",
       "</style>\n",
       "<table border=\"1\" class=\"dataframe\">\n",
       "  <thead>\n",
       "    <tr style=\"text-align: right;\">\n",
       "      <th></th>\n",
       "      <th>kin</th>\n",
       "      <th>kout</th>\n",
       "      <th>win</th>\n",
       "      <th>wout</th>\n",
       "    </tr>\n",
       "  </thead>\n",
       "  <tbody>\n",
       "    <tr>\n",
       "      <th>Alta Floresta</th>\n",
       "      <td>1</td>\n",
       "      <td>1</td>\n",
       "      <td>485.0</td>\n",
       "      <td>485.0</td>\n",
       "    </tr>\n",
       "    <tr>\n",
       "      <th>Varzea Grande</th>\n",
       "      <td>22</td>\n",
       "      <td>22</td>\n",
       "      <td>17380.0</td>\n",
       "      <td>17409.0</td>\n",
       "    </tr>\n",
       "    <tr>\n",
       "      <th>Altamira</th>\n",
       "      <td>5</td>\n",
       "      <td>5</td>\n",
       "      <td>2661.0</td>\n",
       "      <td>2643.0</td>\n",
       "    </tr>\n",
       "    <tr>\n",
       "      <th>Belem</th>\n",
       "      <td>17</td>\n",
       "      <td>17</td>\n",
       "      <td>17802.0</td>\n",
       "      <td>17602.0</td>\n",
       "    </tr>\n",
       "    <tr>\n",
       "      <th>Brasilia</th>\n",
       "      <td>48</td>\n",
       "      <td>48</td>\n",
       "      <td>74782.0</td>\n",
       "      <td>74775.0</td>\n",
       "    </tr>\n",
       "  </tbody>\n",
       "</table>\n",
       "</div>"
      ],
      "text/plain": [
       "               kin  kout      win     wout\n",
       "Alta Floresta    1     1    485.0    485.0\n",
       "Varzea Grande   22    22  17380.0  17409.0\n",
       "Altamira         5     5   2661.0   2643.0\n",
       "Belem           17    17  17802.0  17602.0\n",
       "Brasilia        48    48  74782.0  74775.0"
      ]
     },
     "execution_count": 28,
     "metadata": {},
     "output_type": "execute_result"
    }
   ],
   "source": [
    "dfG.head()"
   ]
  },
  {
   "cell_type": "code",
   "execution_count": 29,
   "id": "d0bd29e0",
   "metadata": {},
   "outputs": [],
   "source": [
    "import seaborn as sns"
   ]
  },
  {
   "cell_type": "code",
   "execution_count": 32,
   "id": "5aab95b1",
   "metadata": {},
   "outputs": [
    {
     "data": {
      "text/plain": [
       "<Axes: xlabel='kin', ylabel='win'>"
      ]
     },
     "execution_count": 32,
     "metadata": {},
     "output_type": "execute_result"
    },
    {
     "data": {
      "image/png": "[encoded data removed]",
      "text/plain": [
       "<Figure size 640x480 with 1 Axes>"
      ]
     },
     "metadata": {},
     "output_type": "display_data"
    }
   ],
   "source": [
    "gg = np.log(dfG)\n",
    "sns.regplot(x=\"kin\", y=\"win\", data=gg)"
   ]
  },
  {
   "cell_type": "code",
   "execution_count": 34,
   "id": "db8c6ac6",
   "metadata": {},
   "outputs": [],
   "source": [
    "dfG = dfG.reset_index()"
   ]
  },
  {
   "cell_type": "code",
   "execution_count": 36,
   "id": "6ae89726",
   "metadata": {},
   "outputs": [],
   "source": [
    "dfG.columns = ['location','kin','kout','win','wout']"
   ]
  },
  {
   "cell_type": "code",
   "execution_count": 39,
   "id": "a0e9a1a3",
   "metadata": {},
   "outputs": [
    {
     "data": {
      "text/html": [
       "<div>\n",
       "<style scoped>\n",
       "    .dataframe tbody tr th:only-of-type {\n",
       "        vertical-align: middle;\n",
       "    }\n",
       "\n",
       "    .dataframe tbody tr th {\n",
       "        vertical-align: top;\n",
       "    }\n",
       "\n",
       "    .dataframe thead th {\n",
       "        text-align: right;\n",
       "    }\n",
       "</style>\n",
       "<table border=\"1\" class=\"dataframe\">\n",
       "  <thead>\n",
       "    <tr style=\"text-align: right;\">\n",
       "      <th></th>\n",
       "      <th>location</th>\n",
       "      <th>kin</th>\n",
       "      <th>kout</th>\n",
       "      <th>win</th>\n",
       "      <th>wout</th>\n",
       "    </tr>\n",
       "  </thead>\n",
       "  <tbody>\n",
       "    <tr>\n",
       "      <th>0</th>\n",
       "      <td>Alta Floresta</td>\n",
       "      <td>1</td>\n",
       "      <td>1</td>\n",
       "      <td>485.0</td>\n",
       "      <td>485.0</td>\n",
       "    </tr>\n",
       "    <tr>\n",
       "      <th>1</th>\n",
       "      <td>Varzea Grande</td>\n",
       "      <td>22</td>\n",
       "      <td>22</td>\n",
       "      <td>17380.0</td>\n",
       "      <td>17409.0</td>\n",
       "    </tr>\n",
       "    <tr>\n",
       "      <th>2</th>\n",
       "      <td>Altamira</td>\n",
       "      <td>5</td>\n",
       "      <td>5</td>\n",
       "      <td>2661.0</td>\n",
       "      <td>2643.0</td>\n",
       "    </tr>\n",
       "    <tr>\n",
       "      <th>3</th>\n",
       "      <td>Belem</td>\n",
       "      <td>17</td>\n",
       "      <td>17</td>\n",
       "      <td>17802.0</td>\n",
       "      <td>17602.0</td>\n",
       "    </tr>\n",
       "    <tr>\n",
       "      <th>4</th>\n",
       "      <td>Brasilia</td>\n",
       "      <td>48</td>\n",
       "      <td>48</td>\n",
       "      <td>74782.0</td>\n",
       "      <td>74775.0</td>\n",
       "    </tr>\n",
       "  </tbody>\n",
       "</table>\n",
       "</div>"
      ],
      "text/plain": [
       "        location  kin  kout      win     wout\n",
       "0  Alta Floresta    1     1    485.0    485.0\n",
       "1  Varzea Grande   22    22  17380.0  17409.0\n",
       "2       Altamira    5     5   2661.0   2643.0\n",
       "3          Belem   17    17  17802.0  17602.0\n",
       "4       Brasilia   48    48  74782.0  74775.0"
      ]
     },
     "execution_count": 39,
     "metadata": {},
     "output_type": "execute_result"
    }
   ],
   "source": [
    "dfG.head()"
   ]
  },
  {
   "cell_type": "code",
   "execution_count": 42,
   "id": "de782619",
   "metadata": {},
   "outputs": [],
   "source": [
    "dfG['location'] = dfG['location'].replace('Varzea Grande', 'Várzea Grande')\n",
    "dfG['location'] = dfG['location'].replace('Belem', 'Várzea Gr')"
   ]
  },
  {
   "cell_type": "code",
   "execution_count": 43,
   "id": "b1836c0a",
   "metadata": {},
   "outputs": [
    {
     "data": {
      "text/html": [
       "<div>\n",
       "<style scoped>\n",
       "    .dataframe tbody tr th:only-of-type {\n",
       "        vertical-align: middle;\n",
       "    }\n",
       "\n",
       "    .dataframe tbody tr th {\n",
       "        vertical-align: top;\n",
       "    }\n",
       "\n",
       "    .dataframe thead th {\n",
       "        text-align: right;\n",
       "    }\n",
       "</style>\n",
       "<table border=\"1\" class=\"dataframe\">\n",
       "  <thead>\n",
       "    <tr style=\"text-align: right;\">\n",
       "      <th></th>\n",
       "      <th>location</th>\n",
       "      <th>kin</th>\n",
       "      <th>kout</th>\n",
       "      <th>win</th>\n",
       "      <th>wout</th>\n",
       "    </tr>\n",
       "  </thead>\n",
       "  <tbody>\n",
       "    <tr>\n",
       "      <th>0</th>\n",
       "      <td>Alta Floresta</td>\n",
       "      <td>1</td>\n",
       "      <td>1</td>\n",
       "      <td>485.0</td>\n",
       "      <td>485.0</td>\n",
       "    </tr>\n",
       "    <tr>\n",
       "      <th>1</th>\n",
       "      <td>Várzea Grande</td>\n",
       "      <td>22</td>\n",
       "      <td>22</td>\n",
       "      <td>17380.0</td>\n",
       "      <td>17409.0</td>\n",
       "    </tr>\n",
       "    <tr>\n",
       "      <th>2</th>\n",
       "      <td>Altamira</td>\n",
       "      <td>5</td>\n",
       "      <td>5</td>\n",
       "      <td>2661.0</td>\n",
       "      <td>2643.0</td>\n",
       "    </tr>\n",
       "    <tr>\n",
       "      <th>3</th>\n",
       "      <td>Belem</td>\n",
       "      <td>17</td>\n",
       "      <td>17</td>\n",
       "      <td>17802.0</td>\n",
       "      <td>17602.0</td>\n",
       "    </tr>\n",
       "    <tr>\n",
       "      <th>4</th>\n",
       "      <td>Brasilia</td>\n",
       "      <td>48</td>\n",
       "      <td>48</td>\n",
       "      <td>74782.0</td>\n",
       "      <td>74775.0</td>\n",
       "    </tr>\n",
       "  </tbody>\n",
       "</table>\n",
       "</div>"
      ],
      "text/plain": [
       "        location  kin  kout      win     wout\n",
       "0  Alta Floresta    1     1    485.0    485.0\n",
       "1  Várzea Grande   22    22  17380.0  17409.0\n",
       "2       Altamira    5     5   2661.0   2643.0\n",
       "3          Belem   17    17  17802.0  17602.0\n",
       "4       Brasilia   48    48  74782.0  74775.0"
      ]
     },
     "execution_count": 43,
     "metadata": {},
     "output_type": "execute_result"
    }
   ],
   "source": [
    "dfG.head()"
   ]
  },
  {
   "cell_type": "code",
   "execution_count": 44,
   "id": "076d8ad4",
   "metadata": {},
   "outputs": [],
   "source": [
    "aux = pd.read_csv(\"dicNameCode.csv\")"
   ]
  },
  {
   "cell_type": "code",
   "execution_count": 45,
   "id": "be8b3b8a",
   "metadata": {},
   "outputs": [
    {
     "data": {
      "text/html": [
       "<div>\n",
       "<style scoped>\n",
       "    .dataframe tbody tr th:only-of-type {\n",
       "        vertical-align: middle;\n",
       "    }\n",
       "\n",
       "    .dataframe tbody tr th {\n",
       "        vertical-align: top;\n",
       "    }\n",
       "\n",
       "    .dataframe thead th {\n",
       "        text-align: right;\n",
       "    }\n",
       "</style>\n",
       "<table border=\"1\" class=\"dataframe\">\n",
       "  <thead>\n",
       "    <tr style=\"text-align: right;\">\n",
       "      <th></th>\n",
       "      <th>code</th>\n",
       "      <th>name</th>\n",
       "    </tr>\n",
       "  </thead>\n",
       "  <tbody>\n",
       "    <tr>\n",
       "      <th>0</th>\n",
       "      <td>1100015</td>\n",
       "      <td>Alta Floresta D'Oeste</td>\n",
       "    </tr>\n",
       "    <tr>\n",
       "      <th>1</th>\n",
       "      <td>1100023</td>\n",
       "      <td>Ariquemes</td>\n",
       "    </tr>\n",
       "    <tr>\n",
       "      <th>2</th>\n",
       "      <td>1100031</td>\n",
       "      <td>Cabixi</td>\n",
       "    </tr>\n",
       "    <tr>\n",
       "      <th>3</th>\n",
       "      <td>1100049</td>\n",
       "      <td>Cacoal</td>\n",
       "    </tr>\n",
       "    <tr>\n",
       "      <th>4</th>\n",
       "      <td>1100056</td>\n",
       "      <td>Cerejeiras</td>\n",
       "    </tr>\n",
       "  </tbody>\n",
       "</table>\n",
       "</div>"
      ],
      "text/plain": [
       "      code                   name\n",
       "0  1100015  Alta Floresta D'Oeste\n",
       "1  1100023              Ariquemes\n",
       "2  1100031                 Cabixi\n",
       "3  1100049                 Cacoal\n",
       "4  1100056             Cerejeiras"
      ]
     },
     "execution_count": 45,
     "metadata": {},
     "output_type": "execute_result"
    }
   ],
   "source": [
    "aux.head()"
   ]
  },
  {
   "cell_type": "code",
   "execution_count": 46,
   "id": "10bc631c",
   "metadata": {},
   "outputs": [],
   "source": [
    "dfG['location'] = dfG['location'].replace('Belem', 'Belém')"
   ]
  },
  {
   "cell_type": "code",
   "execution_count": 50,
   "id": "7f314d8d",
   "metadata": {},
   "outputs": [
    {
     "data": {
      "text/html": [
       "<div>\n",
       "<style scoped>\n",
       "    .dataframe tbody tr th:only-of-type {\n",
       "        vertical-align: middle;\n",
       "    }\n",
       "\n",
       "    .dataframe tbody tr th {\n",
       "        vertical-align: top;\n",
       "    }\n",
       "\n",
       "    .dataframe thead th {\n",
       "        text-align: right;\n",
       "    }\n",
       "</style>\n",
       "<table border=\"1\" class=\"dataframe\">\n",
       "  <thead>\n",
       "    <tr style=\"text-align: right;\">\n",
       "      <th></th>\n",
       "      <th>code</th>\n",
       "      <th>name</th>\n",
       "    </tr>\n",
       "  </thead>\n",
       "  <tbody>\n",
       "    <tr>\n",
       "      <th>169</th>\n",
       "      <td>1501402</td>\n",
       "      <td>Belém</td>\n",
       "    </tr>\n",
       "    <tr>\n",
       "      <th>1267</th>\n",
       "      <td>2501906</td>\n",
       "      <td>Belém</td>\n",
       "    </tr>\n",
       "    <tr>\n",
       "      <th>1656</th>\n",
       "      <td>2700805</td>\n",
       "      <td>Belém</td>\n",
       "    </tr>\n",
       "    <tr>\n",
       "      <th>5734</th>\n",
       "      <td>1501402</td>\n",
       "      <td>Belém</td>\n",
       "    </tr>\n",
       "    <tr>\n",
       "      <th>6832</th>\n",
       "      <td>2501906</td>\n",
       "      <td>Belém</td>\n",
       "    </tr>\n",
       "    <tr>\n",
       "      <th>7221</th>\n",
       "      <td>2700805</td>\n",
       "      <td>Belém</td>\n",
       "    </tr>\n",
       "    <tr>\n",
       "      <th>11299</th>\n",
       "      <td>1501402</td>\n",
       "      <td>Belém</td>\n",
       "    </tr>\n",
       "    <tr>\n",
       "      <th>12397</th>\n",
       "      <td>2501906</td>\n",
       "      <td>Belém</td>\n",
       "    </tr>\n",
       "    <tr>\n",
       "      <th>12786</th>\n",
       "      <td>2700805</td>\n",
       "      <td>Belém</td>\n",
       "    </tr>\n",
       "    <tr>\n",
       "      <th>16864</th>\n",
       "      <td>1501402</td>\n",
       "      <td>Belém</td>\n",
       "    </tr>\n",
       "    <tr>\n",
       "      <th>17963</th>\n",
       "      <td>2501906</td>\n",
       "      <td>Belém</td>\n",
       "    </tr>\n",
       "    <tr>\n",
       "      <th>18352</th>\n",
       "      <td>2700805</td>\n",
       "      <td>Belém</td>\n",
       "    </tr>\n",
       "    <tr>\n",
       "      <th>22434</th>\n",
       "      <td>1501402</td>\n",
       "      <td>Belém</td>\n",
       "    </tr>\n",
       "    <tr>\n",
       "      <th>23533</th>\n",
       "      <td>2501906</td>\n",
       "      <td>Belém</td>\n",
       "    </tr>\n",
       "    <tr>\n",
       "      <th>23922</th>\n",
       "      <td>2700805</td>\n",
       "      <td>Belém</td>\n",
       "    </tr>\n",
       "    <tr>\n",
       "      <th>28004</th>\n",
       "      <td>1501402</td>\n",
       "      <td>Belém</td>\n",
       "    </tr>\n",
       "    <tr>\n",
       "      <th>29103</th>\n",
       "      <td>2501906</td>\n",
       "      <td>Belém</td>\n",
       "    </tr>\n",
       "    <tr>\n",
       "      <th>29492</th>\n",
       "      <td>2700805</td>\n",
       "      <td>Belém</td>\n",
       "    </tr>\n",
       "  </tbody>\n",
       "</table>\n",
       "</div>"
      ],
      "text/plain": [
       "          code   name\n",
       "169    1501402  Belém\n",
       "1267   2501906  Belém\n",
       "1656   2700805  Belém\n",
       "5734   1501402  Belém\n",
       "6832   2501906  Belém\n",
       "7221   2700805  Belém\n",
       "11299  1501402  Belém\n",
       "12397  2501906  Belém\n",
       "12786  2700805  Belém\n",
       "16864  1501402  Belém\n",
       "17963  2501906  Belém\n",
       "18352  2700805  Belém\n",
       "22434  1501402  Belém\n",
       "23533  2501906  Belém\n",
       "23922  2700805  Belém\n",
       "28004  1501402  Belém\n",
       "29103  2501906  Belém\n",
       "29492  2700805  Belém"
      ]
     },
     "execution_count": 50,
     "metadata": {},
     "output_type": "execute_result"
    }
   ],
   "source": [
    "aux[aux['name'] == 'Belém']"
   ]
  },
  {
   "cell_type": "code",
   "execution_count": 51,
   "id": "96caa90e",
   "metadata": {},
   "outputs": [
    {
     "data": {
      "text/html": [
       "<div>\n",
       "<style scoped>\n",
       "    .dataframe tbody tr th:only-of-type {\n",
       "        vertical-align: middle;\n",
       "    }\n",
       "\n",
       "    .dataframe tbody tr th {\n",
       "        vertical-align: top;\n",
       "    }\n",
       "\n",
       "    .dataframe thead th {\n",
       "        text-align: right;\n",
       "    }\n",
       "</style>\n",
       "<table border=\"1\" class=\"dataframe\">\n",
       "  <thead>\n",
       "    <tr style=\"text-align: right;\">\n",
       "      <th></th>\n",
       "      <th>code</th>\n",
       "      <th>name</th>\n",
       "    </tr>\n",
       "  </thead>\n",
       "  <tbody>\n",
       "    <tr>\n",
       "      <th>0</th>\n",
       "      <td>1100015</td>\n",
       "      <td>Alta Floresta D'Oeste</td>\n",
       "    </tr>\n",
       "    <tr>\n",
       "      <th>1</th>\n",
       "      <td>1100023</td>\n",
       "      <td>Ariquemes</td>\n",
       "    </tr>\n",
       "    <tr>\n",
       "      <th>2</th>\n",
       "      <td>1100031</td>\n",
       "      <td>Cabixi</td>\n",
       "    </tr>\n",
       "    <tr>\n",
       "      <th>3</th>\n",
       "      <td>1100049</td>\n",
       "      <td>Cacoal</td>\n",
       "    </tr>\n",
       "    <tr>\n",
       "      <th>4</th>\n",
       "      <td>1100056</td>\n",
       "      <td>Cerejeiras</td>\n",
       "    </tr>\n",
       "  </tbody>\n",
       "</table>\n",
       "</div>"
      ],
      "text/plain": [
       "      code                   name\n",
       "0  1100015  Alta Floresta D'Oeste\n",
       "1  1100023              Ariquemes\n",
       "2  1100031                 Cabixi\n",
       "3  1100049                 Cacoal\n",
       "4  1100056             Cerejeiras"
      ]
     },
     "execution_count": 51,
     "metadata": {},
     "output_type": "execute_result"
    }
   ],
   "source": [
    "aux.head()"
   ]
  },
  {
   "cell_type": "code",
   "execution_count": 53,
   "id": "4e8f7462",
   "metadata": {},
   "outputs": [
    {
     "data": {
      "text/plain": [
       "array([\"Alta Floresta D'Oeste\", 'Ariquemes', 'Cabixi', ...,\n",
       "       'Balneário Rincão', 'Pinto Bandeira', 'Paraíso das Águas'],\n",
       "      dtype=object)"
      ]
     },
     "execution_count": 53,
     "metadata": {},
     "output_type": "execute_result"
    }
   ],
   "source": [
    "aux['name'].unique()"
   ]
  },
  {
   "cell_type": "code",
   "execution_count": 57,
   "id": "2e4445b8",
   "metadata": {},
   "outputs": [
    {
     "name": "stdout",
     "output_type": "stream",
     "text": [
      "<class 'pandas.core.frame.DataFrame'>\n",
      "RangeIndex: 1048575 entries, 0 to 1048574\n",
      "Data columns (total 21 columns):\n",
      " #   Column                Non-Null Count    Dtype  \n",
      "---  ------                --------------    -----  \n",
      " 0   Voos                  1048575 non-null  object \n",
      " 1   Companhia.Aerea       1048575 non-null  object \n",
      " 2   Codigo.Tipo.Linha     1048575 non-null  object \n",
      " 3   Partida.Prevista      1048575 non-null  object \n",
      " 4   Partida.Real          934917 non-null   object \n",
      " 5   Chegada.Prevista      1048575 non-null  object \n",
      " 6   Chegada.Real          934917 non-null   object \n",
      " 7   Situacao.Voo          1048575 non-null  object \n",
      " 8   Codigo.Justificativa  452403 non-null   object \n",
      " 9   Aeroporto.Origem      1048575 non-null  object \n",
      " 10  Cidade.Origem         1048575 non-null  object \n",
      " 11  Estado.Origem         1048575 non-null  object \n",
      " 12  Pais.Origem           1048575 non-null  object \n",
      " 13  Aeroporto.Destino     1048575 non-null  object \n",
      " 14  Cidade.Destino        1048575 non-null  object \n",
      " 15  Estado.Destino        1048575 non-null  object \n",
      " 16  Pais.Destino          1048575 non-null  object \n",
      " 17  LongDest              1048575 non-null  float64\n",
      " 18  LatDest               1048575 non-null  float64\n",
      " 19  LongOrig              1048575 non-null  float64\n",
      " 20  LatOrig               1048575 non-null  float64\n",
      "dtypes: float64(4), object(17)\n",
      "memory usage: 168.0+ MB\n"
     ]
    }
   ],
   "source": [
    "df.info()"
   ]
  },
  {
   "cell_type": "code",
   "execution_count": 59,
   "id": "5cea1d62",
   "metadata": {},
   "outputs": [],
   "source": [
    "dfG['location'] = dfG['location'].replace('Brasilia', 'Brasília')\n",
    "dfG['location'] = dfG['location'].replace('Sao Paulo', 'São Paulo')"
   ]
  },
  {
   "cell_type": "code",
   "execution_count": 62,
   "id": "a84beadc",
   "metadata": {},
   "outputs": [],
   "source": [
    "dfG.to_csv(\"dataGraph01.csv\",index=None)"
   ]
  },
  {
   "cell_type": "code",
   "execution_count": 82,
   "id": "cf17cd2b",
   "metadata": {},
   "outputs": [],
   "source": [
    "import pandas as pd\n",
    "import numpy as np\n",
    "import networkx as nx \n",
    "#\n",
    "df = pd.read_csv(\"BrFlights2.csv\")\n",
    "#\n",
    "isn = ((df['Codigo.Tipo.Linha'] == 'Nacional') | (df['Codigo.Tipo.Linha'] == 'Regional'))\n",
    "#\n",
    "dfBR  = df[isn]\n",
    "#\n",
    "dfBR  = dfBR.reindex(columns=['Cidade.Origem','Cidade.Destino'])\n",
    "#\n",
    "dfBR = dfBR.reset_index()\n",
    "dfBR = dfBR.drop('index',axis=1)\n",
    "#\n",
    "dfBR.columns = ['O','D']\n",
    "dfBR['weight'] = 1.0"
   ]
  },
  {
   "cell_type": "code",
   "execution_count": 89,
   "id": "63dea3af",
   "metadata": {},
   "outputs": [],
   "source": [
    "dfBR['O'] = np.random.permutation(dfBR['O'].values)"
   ]
  },
  {
   "cell_type": "code",
   "execution_count": 99,
   "id": "7735ae0e",
   "metadata": {},
   "outputs": [],
   "source": [
    "dfBR['D'] = np.random.permutation(dfBR['D'].values)"
   ]
  },
  {
   "cell_type": "code",
   "execution_count": 100,
   "id": "d6adbde9",
   "metadata": {},
   "outputs": [],
   "source": [
    "dfBR = dfBR.groupby(['O','D']).sum().reset_index()"
   ]
  },
  {
   "cell_type": "code",
   "execution_count": 74,
   "id": "260038f6",
   "metadata": {},
   "outputs": [
    {
     "data": {
      "text/html": [
       "<div>\n",
       "<style scoped>\n",
       "    .dataframe tbody tr th:only-of-type {\n",
       "        vertical-align: middle;\n",
       "    }\n",
       "\n",
       "    .dataframe tbody tr th {\n",
       "        vertical-align: top;\n",
       "    }\n",
       "\n",
       "    .dataframe thead th {\n",
       "        text-align: right;\n",
       "    }\n",
       "</style>\n",
       "<table border=\"1\" class=\"dataframe\">\n",
       "  <thead>\n",
       "    <tr style=\"text-align: right;\">\n",
       "      <th></th>\n",
       "      <th>O</th>\n",
       "      <th>D</th>\n",
       "      <th>weight</th>\n",
       "    </tr>\n",
       "  </thead>\n",
       "  <tbody>\n",
       "    <tr>\n",
       "      <th>0</th>\n",
       "      <td>Alta Floresta</td>\n",
       "      <td>Alta Floresta</td>\n",
       "      <td>1.0</td>\n",
       "    </tr>\n",
       "    <tr>\n",
       "      <th>1</th>\n",
       "      <td>Alta Floresta</td>\n",
       "      <td>Altamira</td>\n",
       "      <td>1.0</td>\n",
       "    </tr>\n",
       "    <tr>\n",
       "      <th>2</th>\n",
       "      <td>Alta Floresta</td>\n",
       "      <td>Aracaju</td>\n",
       "      <td>6.0</td>\n",
       "    </tr>\n",
       "    <tr>\n",
       "      <th>3</th>\n",
       "      <td>Alta Floresta</td>\n",
       "      <td>Aracatuba</td>\n",
       "      <td>1.0</td>\n",
       "    </tr>\n",
       "    <tr>\n",
       "      <th>4</th>\n",
       "      <td>Alta Floresta</td>\n",
       "      <td>Arealva</td>\n",
       "      <td>1.0</td>\n",
       "    </tr>\n",
       "  </tbody>\n",
       "</table>\n",
       "</div>"
      ],
      "text/plain": [
       "               O              D  weight\n",
       "0  Alta Floresta  Alta Floresta     1.0\n",
       "1  Alta Floresta       Altamira     1.0\n",
       "2  Alta Floresta        Aracaju     6.0\n",
       "3  Alta Floresta      Aracatuba     1.0\n",
       "4  Alta Floresta        Arealva     1.0"
      ]
     },
     "execution_count": 74,
     "metadata": {},
     "output_type": "execute_result"
    }
   ],
   "source": [
    "dfBR.head()"
   ]
  },
  {
   "cell_type": "code",
   "execution_count": 75,
   "id": "bcf71bda",
   "metadata": {},
   "outputs": [
    {
     "data": {
      "text/html": [
       "<div>\n",
       "<style scoped>\n",
       "    .dataframe tbody tr th:only-of-type {\n",
       "        vertical-align: middle;\n",
       "    }\n",
       "\n",
       "    .dataframe tbody tr th {\n",
       "        vertical-align: top;\n",
       "    }\n",
       "\n",
       "    .dataframe thead th {\n",
       "        text-align: right;\n",
       "    }\n",
       "</style>\n",
       "<table border=\"1\" class=\"dataframe\">\n",
       "  <thead>\n",
       "    <tr style=\"text-align: right;\">\n",
       "      <th></th>\n",
       "      <th>O</th>\n",
       "      <th>D</th>\n",
       "      <th>weight</th>\n",
       "    </tr>\n",
       "  </thead>\n",
       "  <tbody>\n",
       "    <tr>\n",
       "      <th>3198</th>\n",
       "      <td>Guarulhos</td>\n",
       "      <td>Guarulhos</td>\n",
       "      <td>11498.0</td>\n",
       "    </tr>\n",
       "    <tr>\n",
       "      <th>3236</th>\n",
       "      <td>Guarulhos</td>\n",
       "      <td>Rio De Janeiro</td>\n",
       "      <td>10443.0</td>\n",
       "    </tr>\n",
       "    <tr>\n",
       "      <th>6162</th>\n",
       "      <td>Rio De Janeiro</td>\n",
       "      <td>Guarulhos</td>\n",
       "      <td>10298.0</td>\n",
       "    </tr>\n",
       "    <tr>\n",
       "      <th>6201</th>\n",
       "      <td>Rio De Janeiro</td>\n",
       "      <td>Rio De Janeiro</td>\n",
       "      <td>9689.0</td>\n",
       "    </tr>\n",
       "    <tr>\n",
       "      <th>1110</th>\n",
       "      <td>Brasilia</td>\n",
       "      <td>Guarulhos</td>\n",
       "      <td>8441.0</td>\n",
       "    </tr>\n",
       "    <tr>\n",
       "      <th>3170</th>\n",
       "      <td>Guarulhos</td>\n",
       "      <td>Brasilia</td>\n",
       "      <td>8272.0</td>\n",
       "    </tr>\n",
       "    <tr>\n",
       "      <th>7239</th>\n",
       "      <td>Sao Paulo</td>\n",
       "      <td>Guarulhos</td>\n",
       "      <td>8133.0</td>\n",
       "    </tr>\n",
       "    <tr>\n",
       "      <th>3249</th>\n",
       "      <td>Guarulhos</td>\n",
       "      <td>Sao Paulo</td>\n",
       "      <td>8060.0</td>\n",
       "    </tr>\n",
       "    <tr>\n",
       "      <th>6134</th>\n",
       "      <td>Rio De Janeiro</td>\n",
       "      <td>Brasilia</td>\n",
       "      <td>7655.0</td>\n",
       "    </tr>\n",
       "    <tr>\n",
       "      <th>1148</th>\n",
       "      <td>Brasilia</td>\n",
       "      <td>Rio De Janeiro</td>\n",
       "      <td>7635.0</td>\n",
       "    </tr>\n",
       "  </tbody>\n",
       "</table>\n",
       "</div>"
      ],
      "text/plain": [
       "                   O               D   weight\n",
       "3198       Guarulhos       Guarulhos  11498.0\n",
       "3236       Guarulhos  Rio De Janeiro  10443.0\n",
       "6162  Rio De Janeiro       Guarulhos  10298.0\n",
       "6201  Rio De Janeiro  Rio De Janeiro   9689.0\n",
       "1110        Brasilia       Guarulhos   8441.0\n",
       "3170       Guarulhos        Brasilia   8272.0\n",
       "7239       Sao Paulo       Guarulhos   8133.0\n",
       "3249       Guarulhos       Sao Paulo   8060.0\n",
       "6134  Rio De Janeiro        Brasilia   7655.0\n",
       "1148        Brasilia  Rio De Janeiro   7635.0"
      ]
     },
     "execution_count": 75,
     "metadata": {},
     "output_type": "execute_result"
    }
   ],
   "source": [
    "dfBR.sort_values(by='weight',ascending=False).head(10)"
   ]
  },
  {
   "cell_type": "code",
   "execution_count": 101,
   "id": "95b522a4",
   "metadata": {},
   "outputs": [
    {
     "data": {
      "text/html": [
       "<div>\n",
       "<style scoped>\n",
       "    .dataframe tbody tr th:only-of-type {\n",
       "        vertical-align: middle;\n",
       "    }\n",
       "\n",
       "    .dataframe tbody tr th {\n",
       "        vertical-align: top;\n",
       "    }\n",
       "\n",
       "    .dataframe thead th {\n",
       "        text-align: right;\n",
       "    }\n",
       "</style>\n",
       "<table border=\"1\" class=\"dataframe\">\n",
       "  <thead>\n",
       "    <tr style=\"text-align: right;\">\n",
       "      <th></th>\n",
       "      <th>O</th>\n",
       "      <th>D</th>\n",
       "      <th>weight</th>\n",
       "    </tr>\n",
       "  </thead>\n",
       "  <tbody>\n",
       "    <tr>\n",
       "      <th>3231</th>\n",
       "      <td>Guarulhos</td>\n",
       "      <td>Guarulhos</td>\n",
       "      <td>11674.0</td>\n",
       "    </tr>\n",
       "    <tr>\n",
       "      <th>3270</th>\n",
       "      <td>Guarulhos</td>\n",
       "      <td>Rio De Janeiro</td>\n",
       "      <td>10560.0</td>\n",
       "    </tr>\n",
       "    <tr>\n",
       "      <th>6192</th>\n",
       "      <td>Rio De Janeiro</td>\n",
       "      <td>Guarulhos</td>\n",
       "      <td>10330.0</td>\n",
       "    </tr>\n",
       "    <tr>\n",
       "      <th>6230</th>\n",
       "      <td>Rio De Janeiro</td>\n",
       "      <td>Rio De Janeiro</td>\n",
       "      <td>9397.0</td>\n",
       "    </tr>\n",
       "    <tr>\n",
       "      <th>1118</th>\n",
       "      <td>Brasilia</td>\n",
       "      <td>Guarulhos</td>\n",
       "      <td>8415.0</td>\n",
       "    </tr>\n",
       "    <tr>\n",
       "      <th>3203</th>\n",
       "      <td>Guarulhos</td>\n",
       "      <td>Brasilia</td>\n",
       "      <td>8314.0</td>\n",
       "    </tr>\n",
       "    <tr>\n",
       "      <th>3283</th>\n",
       "      <td>Guarulhos</td>\n",
       "      <td>Sao Paulo</td>\n",
       "      <td>8094.0</td>\n",
       "    </tr>\n",
       "    <tr>\n",
       "      <th>7276</th>\n",
       "      <td>Sao Paulo</td>\n",
       "      <td>Guarulhos</td>\n",
       "      <td>8086.0</td>\n",
       "    </tr>\n",
       "    <tr>\n",
       "      <th>1157</th>\n",
       "      <td>Brasilia</td>\n",
       "      <td>Rio De Janeiro</td>\n",
       "      <td>7698.0</td>\n",
       "    </tr>\n",
       "    <tr>\n",
       "      <th>7314</th>\n",
       "      <td>Sao Paulo</td>\n",
       "      <td>Rio De Janeiro</td>\n",
       "      <td>7632.0</td>\n",
       "    </tr>\n",
       "  </tbody>\n",
       "</table>\n",
       "</div>"
      ],
      "text/plain": [
       "                   O               D   weight\n",
       "3231       Guarulhos       Guarulhos  11674.0\n",
       "3270       Guarulhos  Rio De Janeiro  10560.0\n",
       "6192  Rio De Janeiro       Guarulhos  10330.0\n",
       "6230  Rio De Janeiro  Rio De Janeiro   9397.0\n",
       "1118        Brasilia       Guarulhos   8415.0\n",
       "3203       Guarulhos        Brasilia   8314.0\n",
       "3283       Guarulhos       Sao Paulo   8094.0\n",
       "7276       Sao Paulo       Guarulhos   8086.0\n",
       "1157        Brasilia  Rio De Janeiro   7698.0\n",
       "7314       Sao Paulo  Rio De Janeiro   7632.0"
      ]
     },
     "execution_count": 101,
     "metadata": {},
     "output_type": "execute_result"
    }
   ],
   "source": [
    "dfBR.sort_values(by='weight',ascending=False).head(10)"
   ]
  },
  {
   "cell_type": "code",
   "execution_count": 102,
   "id": "983c944d",
   "metadata": {},
   "outputs": [],
   "source": [
    "#from scipy import stats\n",
    "#slope, intercept, r_value, p_value, std_err = stats.linregress(g1['logkin'],g1['logwin'])\n",
    "G = nx.from_pandas_edgelist(dfBR,'O','D','weight',create_using=nx.DiGraph)"
   ]
  },
  {
   "cell_type": "code",
   "execution_count": 103,
   "id": "617a2da6",
   "metadata": {},
   "outputs": [
    {
     "data": {
      "text/plain": [
       "114"
      ]
     },
     "execution_count": 103,
     "metadata": {},
     "output_type": "execute_result"
    }
   ],
   "source": [
    "G.order()"
   ]
  },
  {
   "cell_type": "code",
   "execution_count": 105,
   "id": "588da2d0",
   "metadata": {},
   "outputs": [],
   "source": [
    "kin = pd.Series(dict(G.in_degree()))\n",
    "kout = pd.Series(dict(G.out_degree()))\n",
    "#\n",
    "win = pd.Series(dict(G.in_degree(weight='weight')))\n",
    "wout = pd.Series(dict(G.out_degree(weight='weight')))"
   ]
  },
  {
   "cell_type": "code",
   "execution_count": 106,
   "id": "f58847c5",
   "metadata": {},
   "outputs": [],
   "source": [
    "dfr = pd.DataFrame()\n",
    "dfr['kin'] = kin\n",
    "dfr['kout'] = kout\n",
    "dfr['win'] = win\n",
    "dfr['wout'] = wout"
   ]
  },
  {
   "cell_type": "code",
   "execution_count": 107,
   "id": "1ee780ba",
   "metadata": {},
   "outputs": [
    {
     "data": {
      "text/html": [
       "<div>\n",
       "<style scoped>\n",
       "    .dataframe tbody tr th:only-of-type {\n",
       "        vertical-align: middle;\n",
       "    }\n",
       "\n",
       "    .dataframe tbody tr th {\n",
       "        vertical-align: top;\n",
       "    }\n",
       "\n",
       "    .dataframe thead th {\n",
       "        text-align: right;\n",
       "    }\n",
       "</style>\n",
       "<table border=\"1\" class=\"dataframe\">\n",
       "  <thead>\n",
       "    <tr style=\"text-align: right;\">\n",
       "      <th></th>\n",
       "      <th>kin</th>\n",
       "      <th>kout</th>\n",
       "      <th>win</th>\n",
       "      <th>wout</th>\n",
       "    </tr>\n",
       "  </thead>\n",
       "  <tbody>\n",
       "    <tr>\n",
       "      <th>Alta Floresta</th>\n",
       "      <td>58</td>\n",
       "      <td>63</td>\n",
       "      <td>485.0</td>\n",
       "      <td>485.0</td>\n",
       "    </tr>\n",
       "    <tr>\n",
       "      <th>Altamira</th>\n",
       "      <td>94</td>\n",
       "      <td>93</td>\n",
       "      <td>2661.0</td>\n",
       "      <td>2643.0</td>\n",
       "    </tr>\n",
       "    <tr>\n",
       "      <th>Aracaju</th>\n",
       "      <td>100</td>\n",
       "      <td>98</td>\n",
       "      <td>6207.0</td>\n",
       "      <td>6192.0</td>\n",
       "    </tr>\n",
       "    <tr>\n",
       "      <th>Arealva</th>\n",
       "      <td>84</td>\n",
       "      <td>83</td>\n",
       "      <td>1665.0</td>\n",
       "      <td>1669.0</td>\n",
       "    </tr>\n",
       "    <tr>\n",
       "      <th>Bayeux</th>\n",
       "      <td>99</td>\n",
       "      <td>102</td>\n",
       "      <td>6525.0</td>\n",
       "      <td>6535.0</td>\n",
       "    </tr>\n",
       "  </tbody>\n",
       "</table>\n",
       "</div>"
      ],
      "text/plain": [
       "               kin  kout     win    wout\n",
       "Alta Floresta   58    63   485.0   485.0\n",
       "Altamira        94    93  2661.0  2643.0\n",
       "Aracaju        100    98  6207.0  6192.0\n",
       "Arealva         84    83  1665.0  1669.0\n",
       "Bayeux          99   102  6525.0  6535.0"
      ]
     },
     "execution_count": 107,
     "metadata": {},
     "output_type": "execute_result"
    }
   ],
   "source": [
    "dfr.head()"
   ]
  },
  {
   "cell_type": "code",
   "execution_count": 108,
   "id": "0da3b581",
   "metadata": {},
   "outputs": [
    {
     "data": {
      "text/html": [
       "<div>\n",
       "<style scoped>\n",
       "    .dataframe tbody tr th:only-of-type {\n",
       "        vertical-align: middle;\n",
       "    }\n",
       "\n",
       "    .dataframe tbody tr th {\n",
       "        vertical-align: top;\n",
       "    }\n",
       "\n",
       "    .dataframe thead th {\n",
       "        text-align: right;\n",
       "    }\n",
       "</style>\n",
       "<table border=\"1\" class=\"dataframe\">\n",
       "  <thead>\n",
       "    <tr style=\"text-align: right;\">\n",
       "      <th></th>\n",
       "      <th>location</th>\n",
       "      <th>kin</th>\n",
       "      <th>kout</th>\n",
       "      <th>win</th>\n",
       "      <th>wout</th>\n",
       "    </tr>\n",
       "  </thead>\n",
       "  <tbody>\n",
       "    <tr>\n",
       "      <th>0</th>\n",
       "      <td>Alta Floresta</td>\n",
       "      <td>1</td>\n",
       "      <td>1</td>\n",
       "      <td>485.0</td>\n",
       "      <td>485.0</td>\n",
       "    </tr>\n",
       "    <tr>\n",
       "      <th>1</th>\n",
       "      <td>Várzea Grande</td>\n",
       "      <td>22</td>\n",
       "      <td>22</td>\n",
       "      <td>17380.0</td>\n",
       "      <td>17409.0</td>\n",
       "    </tr>\n",
       "    <tr>\n",
       "      <th>2</th>\n",
       "      <td>Altamira</td>\n",
       "      <td>5</td>\n",
       "      <td>5</td>\n",
       "      <td>2661.0</td>\n",
       "      <td>2643.0</td>\n",
       "    </tr>\n",
       "    <tr>\n",
       "      <th>3</th>\n",
       "      <td>Belém</td>\n",
       "      <td>17</td>\n",
       "      <td>17</td>\n",
       "      <td>17802.0</td>\n",
       "      <td>17602.0</td>\n",
       "    </tr>\n",
       "    <tr>\n",
       "      <th>4</th>\n",
       "      <td>Brasília</td>\n",
       "      <td>48</td>\n",
       "      <td>48</td>\n",
       "      <td>74782.0</td>\n",
       "      <td>74775.0</td>\n",
       "    </tr>\n",
       "  </tbody>\n",
       "</table>\n",
       "</div>"
      ],
      "text/plain": [
       "        location  kin  kout      win     wout\n",
       "0  Alta Floresta    1     1    485.0    485.0\n",
       "1  Várzea Grande   22    22  17380.0  17409.0\n",
       "2       Altamira    5     5   2661.0   2643.0\n",
       "3          Belém   17    17  17802.0  17602.0\n",
       "4       Brasília   48    48  74782.0  74775.0"
      ]
     },
     "execution_count": 108,
     "metadata": {},
     "output_type": "execute_result"
    }
   ],
   "source": [
    "dfG.head()"
   ]
  },
  {
   "cell_type": "code",
   "execution_count": 111,
   "id": "4133ba0b",
   "metadata": {},
   "outputs": [],
   "source": [
    "from scipy import stats\n",
    "rr = np.log(dfr)\n",
    "slopeR, interceptR, r_valueR, p_valueR, std_errR = stats.linregress(rr['kin'],rr['win'])"
   ]
  },
  {
   "cell_type": "code",
   "execution_count": 112,
   "id": "389be46e",
   "metadata": {},
   "outputs": [
    {
     "data": {
      "text/plain": [
       "3.41326751621462"
      ]
     },
     "execution_count": 112,
     "metadata": {},
     "output_type": "execute_result"
    }
   ],
   "source": [
    "slopeR"
   ]
  },
  {
   "cell_type": "code",
   "execution_count": 113,
   "id": "208ab3bb",
   "metadata": {},
   "outputs": [
    {
     "data": {
      "text/plain": [
       "<Axes: xlabel='kin', ylabel='win'>"
      ]
     },
     "execution_count": 113,
     "metadata": {},
     "output_type": "execute_result"
    },
    {
     "data": {
      "image/png": "[encoded data removed]",
      "text/plain": [
       "<Figure size 640x480 with 1 Axes>"
      ]
     },
     "metadata": {},
     "output_type": "display_data"
    }
   ],
   "source": [
    "rr = np.log(dfr)\n",
    "sns.regplot(x=\"kin\", y=\"win\", data=rr)"
   ]
  },
  {
   "cell_type": "code",
   "execution_count": 114,
   "id": "c393d5c4",
   "metadata": {},
   "outputs": [
    {
     "data": {
      "text/plain": [
       "<Axes: xlabel='kin', ylabel='win'>"
      ]
     },
     "execution_count": 114,
     "metadata": {},
     "output_type": "execute_result"
    },
    {
     "data": {
      "image/png": "[encoded data removed]",
      "text/plain": [
       "<Figure size 640x480 with 1 Axes>"
      ]
     },
     "metadata": {},
     "output_type": "display_data"
    }
   ],
   "source": [
    "sns.regplot(x=\"kin\", y=\"win\", data=gg)"
   ]
  },
  {
   "cell_type": "code",
   "execution_count": 115,
   "id": "0f7a78e4",
   "metadata": {},
   "outputs": [],
   "source": [
    "slope, intercept, r_value, p_value, std_err = stats.linregress(gg['kin'],gg['win'])"
   ]
  },
  {
   "cell_type": "code",
   "execution_count": 116,
   "id": "c109bdab",
   "metadata": {},
   "outputs": [
    {
     "data": {
      "text/plain": [
       "1.6009522670689174"
      ]
     },
     "execution_count": 116,
     "metadata": {},
     "output_type": "execute_result"
    }
   ],
   "source": [
    "slope"
   ]
  },
  {
   "cell_type": "code",
   "execution_count": 117,
   "id": "43ba0880",
   "metadata": {},
   "outputs": [
    {
     "data": {
      "text/html": [
       "<div>\n",
       "<style scoped>\n",
       "    .dataframe tbody tr th:only-of-type {\n",
       "        vertical-align: middle;\n",
       "    }\n",
       "\n",
       "    .dataframe tbody tr th {\n",
       "        vertical-align: top;\n",
       "    }\n",
       "\n",
       "    .dataframe thead th {\n",
       "        text-align: right;\n",
       "    }\n",
       "</style>\n",
       "<table border=\"1\" class=\"dataframe\">\n",
       "  <thead>\n",
       "    <tr style=\"text-align: right;\">\n",
       "      <th></th>\n",
       "      <th>kin</th>\n",
       "      <th>kout</th>\n",
       "      <th>win</th>\n",
       "      <th>wout</th>\n",
       "    </tr>\n",
       "  </thead>\n",
       "  <tbody>\n",
       "    <tr>\n",
       "      <th>Alta Floresta</th>\n",
       "      <td>58</td>\n",
       "      <td>63</td>\n",
       "      <td>485.0</td>\n",
       "      <td>485.0</td>\n",
       "    </tr>\n",
       "    <tr>\n",
       "      <th>Altamira</th>\n",
       "      <td>94</td>\n",
       "      <td>93</td>\n",
       "      <td>2661.0</td>\n",
       "      <td>2643.0</td>\n",
       "    </tr>\n",
       "    <tr>\n",
       "      <th>Aracaju</th>\n",
       "      <td>100</td>\n",
       "      <td>98</td>\n",
       "      <td>6207.0</td>\n",
       "      <td>6192.0</td>\n",
       "    </tr>\n",
       "    <tr>\n",
       "      <th>Arealva</th>\n",
       "      <td>84</td>\n",
       "      <td>83</td>\n",
       "      <td>1665.0</td>\n",
       "      <td>1669.0</td>\n",
       "    </tr>\n",
       "    <tr>\n",
       "      <th>Bayeux</th>\n",
       "      <td>99</td>\n",
       "      <td>102</td>\n",
       "      <td>6525.0</td>\n",
       "      <td>6535.0</td>\n",
       "    </tr>\n",
       "  </tbody>\n",
       "</table>\n",
       "</div>"
      ],
      "text/plain": [
       "               kin  kout     win    wout\n",
       "Alta Floresta   58    63   485.0   485.0\n",
       "Altamira        94    93  2661.0  2643.0\n",
       "Aracaju        100    98  6207.0  6192.0\n",
       "Arealva         84    83  1665.0  1669.0\n",
       "Bayeux          99   102  6525.0  6535.0"
      ]
     },
     "execution_count": 117,
     "metadata": {},
     "output_type": "execute_result"
    }
   ],
   "source": [
    "dfr.head()"
   ]
  },
  {
   "cell_type": "code",
   "execution_count": 131,
   "id": "00167908",
   "metadata": {},
   "outputs": [],
   "source": [
    "dfr2 = dfr.reindex(columns=['kin','win'])"
   ]
  },
  {
   "cell_type": "code",
   "execution_count": 132,
   "id": "7f857877",
   "metadata": {},
   "outputs": [],
   "source": [
    "dfr2 = dfr2.groupby(['kin']).mean().reset_index()"
   ]
  },
  {
   "cell_type": "code",
   "execution_count": 120,
   "id": "bd47cc24",
   "metadata": {},
   "outputs": [
    {
     "data": {
      "text/html": [
       "<div>\n",
       "<style scoped>\n",
       "    .dataframe tbody tr th:only-of-type {\n",
       "        vertical-align: middle;\n",
       "    }\n",
       "\n",
       "    .dataframe tbody tr th {\n",
       "        vertical-align: top;\n",
       "    }\n",
       "\n",
       "    .dataframe thead th {\n",
       "        text-align: right;\n",
       "    }\n",
       "</style>\n",
       "<table border=\"1\" class=\"dataframe\">\n",
       "  <thead>\n",
       "    <tr style=\"text-align: right;\">\n",
       "      <th></th>\n",
       "      <th>kin</th>\n",
       "      <th>win</th>\n",
       "    </tr>\n",
       "  </thead>\n",
       "  <tbody>\n",
       "    <tr>\n",
       "      <th>0</th>\n",
       "      <td>7</td>\n",
       "      <td>21.0</td>\n",
       "    </tr>\n",
       "    <tr>\n",
       "      <th>1</th>\n",
       "      <td>18</td>\n",
       "      <td>39.0</td>\n",
       "    </tr>\n",
       "    <tr>\n",
       "      <th>2</th>\n",
       "      <td>23</td>\n",
       "      <td>57.0</td>\n",
       "    </tr>\n",
       "    <tr>\n",
       "      <th>3</th>\n",
       "      <td>25</td>\n",
       "      <td>61.0</td>\n",
       "    </tr>\n",
       "    <tr>\n",
       "      <th>4</th>\n",
       "      <td>27</td>\n",
       "      <td>78.0</td>\n",
       "    </tr>\n",
       "  </tbody>\n",
       "</table>\n",
       "</div>"
      ],
      "text/plain": [
       "   kin   win\n",
       "0    7  21.0\n",
       "1   18  39.0\n",
       "2   23  57.0\n",
       "3   25  61.0\n",
       "4   27  78.0"
      ]
     },
     "execution_count": 120,
     "metadata": {},
     "output_type": "execute_result"
    }
   ],
   "source": [
    "dfr2.head()"
   ]
  },
  {
   "cell_type": "code",
   "execution_count": 128,
   "id": "56dda4bb",
   "metadata": {},
   "outputs": [],
   "source": [
    "dfG2 = dfG.reindex(columns=['kin','win'])"
   ]
  },
  {
   "cell_type": "code",
   "execution_count": 129,
   "id": "6c85fec6",
   "metadata": {},
   "outputs": [],
   "source": [
    "dfG2 = dfG2.groupby(['kin']).mean().reset_index()"
   ]
  },
  {
   "cell_type": "code",
   "execution_count": 130,
   "id": "7310d756",
   "metadata": {},
   "outputs": [
    {
     "data": {
      "text/plain": [
       "<Axes: xlabel='kin', ylabel='win'>"
      ]
     },
     "execution_count": 130,
     "metadata": {},
     "output_type": "execute_result"
    },
    {
     "data": {
      "image/png": "[encoded data removed]",
      "text/plain": [
       "<Figure size 640x480 with 1 Axes>"
      ]
     },
     "metadata": {},
     "output_type": "display_data"
    }
   ],
   "source": [
    "gg2 = np.log(dfG2)\n",
    "sns.regplot(x=\"kin\", y=\"win\", data=gg2)"
   ]
  },
  {
   "cell_type": "code",
   "execution_count": 133,
   "id": "e10d7076",
   "metadata": {},
   "outputs": [
    {
     "data": {
      "text/plain": [
       "<Axes: xlabel='kin', ylabel='win'>"
      ]
     },
     "execution_count": 133,
     "metadata": {},
     "output_type": "execute_result"
    },
    {
     "data": {
      "image/png": "[encoded data removed]",
      "text/plain": [
       "<Figure size 640x480 with 1 Axes>"
      ]
     },
     "metadata": {},
     "output_type": "display_data"
    }
   ],
   "source": [
    "rr2 = np.log(dfr2)\n",
    "sns.regplot(x=\"kin\", y=\"win\", data=rr2)"
   ]
  },
  {
   "cell_type": "code",
   "execution_count": null,
   "id": "4e71082f",
   "metadata": {},
   "outputs": [],
   "source": []
  }
 ],
 "metadata": {
  "kernelspec": {
   "display_name": "Python 3 (ipykernel)",
   "language": "python",
   "name": "python3"
  },
  "language_info": {
   "codemirror_mode": {
    "name": "ipython",
    "version": 3
   },
   "file_extension": ".py",
   "mimetype": "text/x-python",
   "name": "python",
   "nbconvert_exporter": "python",
   "pygments_lexer": "ipython3",
   "version": "3.10.12"
  }
 },
 "nbformat": 4,
 "nbformat_minor": 5
}

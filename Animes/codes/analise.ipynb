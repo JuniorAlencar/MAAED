{
 "cells": [
  {
   "cell_type": "code",
   "execution_count": 1,
   "metadata": {},
   "outputs": [],
   "source": [
    "import numpy as np\n",
    "import pandas as pd\n",
    "import networkx as nx\n",
    "import matplotlib.pyplot as plt\n",
    "from tqdm import tqdm"
   ]
  },
  {
   "cell_type": "code",
   "execution_count": 2,
   "metadata": {},
   "outputs": [
    {
     "name": "stdout",
     "output_type": "stream",
     "text": [
      "<class 'pandas.core.frame.DataFrame'>\n",
      "RangeIndex: 5048994 entries, 0 to 5048993\n",
      "Data columns (total 5 columns):\n",
      " #   Column           Dtype \n",
      "---  ------           ----- \n",
      " 0   userA            object\n",
      " 1   userB            object\n",
      " 2   friends          int64 \n",
      " 3   friendship_date  object\n",
      " 4   hora             object\n",
      "dtypes: int64(1), object(4)\n",
      "memory usage: 192.6+ MB\n"
     ]
    },
    {
     "data": {
      "text/html": [
       "<div>\n",
       "<style scoped>\n",
       "    .dataframe tbody tr th:only-of-type {\n",
       "        vertical-align: middle;\n",
       "    }\n",
       "\n",
       "    .dataframe tbody tr th {\n",
       "        vertical-align: top;\n",
       "    }\n",
       "\n",
       "    .dataframe thead th {\n",
       "        text-align: right;\n",
       "    }\n",
       "</style>\n",
       "<table border=\"1\" class=\"dataframe\">\n",
       "  <thead>\n",
       "    <tr style=\"text-align: right;\">\n",
       "      <th></th>\n",
       "      <th>userA</th>\n",
       "      <th>userB</th>\n",
       "    </tr>\n",
       "  </thead>\n",
       "  <tbody>\n",
       "    <tr>\n",
       "      <th>0</th>\n",
       "      <td>guirumeuto</td>\n",
       "      <td>vitoon</td>\n",
       "    </tr>\n",
       "    <tr>\n",
       "      <th>1</th>\n",
       "      <td>sleepwalkerbr</td>\n",
       "      <td>taric_uchiha</td>\n",
       "    </tr>\n",
       "    <tr>\n",
       "      <th>2</th>\n",
       "      <td>ginta-san</td>\n",
       "      <td>kellymoons</td>\n",
       "    </tr>\n",
       "    <tr>\n",
       "      <th>3</th>\n",
       "      <td>abbi11485</td>\n",
       "      <td>littlejaxit</td>\n",
       "    </tr>\n",
       "    <tr>\n",
       "      <th>4</th>\n",
       "      <td>valdi_1111</td>\n",
       "      <td>caki-chan</td>\n",
       "    </tr>\n",
       "  </tbody>\n",
       "</table>\n",
       "</div>"
      ],
      "text/plain": [
       "           userA         userB\n",
       "0     guirumeuto        vitoon\n",
       "1  sleepwalkerbr  taric_uchiha\n",
       "2      ginta-san    kellymoons\n",
       "3      abbi11485   littlejaxit\n",
       "4     valdi_1111     caki-chan"
      ]
     },
     "execution_count": 2,
     "metadata": {},
     "output_type": "execute_result"
    }
   ],
   "source": [
    "df = pd.read_csv(\"./data/user_user.txt\",sep=\" \") # open file\n",
    "df.info() \n",
    "df.head()\n",
    "#Estou selecioando somente as colunas \"userA\" e \"userB\"\n",
    "df =df[['userA','userB']]\n",
    "df.head()"
   ]
  },
  {
   "cell_type": "code",
   "execution_count": 3,
   "metadata": {},
   "outputs": [],
   "source": [
    "G = nx.from_pandas_edgelist(df,\"userA\", \"userB\",create_using=nx.Graph) # Create network from data_frame"
   ]
  },
  {
   "cell_type": "code",
   "execution_count": null,
   "metadata": {},
   "outputs": [],
   "source": [
    "print(G.edges())"
   ]
  },
  {
   "cell_type": "code",
   "execution_count": 4,
   "metadata": {},
   "outputs": [
    {
     "name": "stderr",
     "output_type": "stream",
     "text": [
      "  0%|          | 3/38245 [06:12<1319:58:56, 124.26s/it]\n"
     ]
    },
    {
     "ename": "KeyboardInterrupt",
     "evalue": "",
     "output_type": "error",
     "traceback": [
      "\u001b[1;31m---------------------------------------------------------------------------\u001b[0m",
      "\u001b[1;31mKeyboardInterrupt\u001b[0m                         Traceback (most recent call last)",
      "\u001b[1;32mc:\\Users\\LSN - Igor\\Desktop\\github\\MAAED\\Animes\\analise.ipynb Cell 5\u001b[0m line \u001b[0;36m9\n\u001b[0;32m      <a href='vscode-notebook-cell:/c%3A/Users/LSN%20-%20Igor/Desktop/github/MAAED/Animes/analise.ipynb#W4sZmlsZQ%3D%3D?line=6'>7</a>\u001b[0m \u001b[39mfor\u001b[39;00m k \u001b[39min\u001b[39;00m \u001b[39mrange\u001b[39m(\u001b[39m1\u001b[39m, max_degree \u001b[39m+\u001b[39m \u001b[39m1\u001b[39m):\n\u001b[0;32m      <a href='vscode-notebook-cell:/c%3A/Users/LSN%20-%20Igor/Desktop/github/MAAED/Animes/analise.ipynb#W4sZmlsZQ%3D%3D?line=7'>8</a>\u001b[0m     \u001b[39mtry\u001b[39;00m:\n\u001b[1;32m----> <a href='vscode-notebook-cell:/c%3A/Users/LSN%20-%20Igor/Desktop/github/MAAED/Animes/analise.ipynb#W4sZmlsZQ%3D%3D?line=8'>9</a>\u001b[0m         core \u001b[39m=\u001b[39m nx\u001b[39m.\u001b[39;49mk_core(G, k\u001b[39m=\u001b[39;49mk)\n\u001b[0;32m     <a href='vscode-notebook-cell:/c%3A/Users/LSN%20-%20Igor/Desktop/github/MAAED/Animes/analise.ipynb#W4sZmlsZQ%3D%3D?line=9'>10</a>\u001b[0m         k_values\u001b[39m.\u001b[39mappend(k)\n\u001b[0;32m     <a href='vscode-notebook-cell:/c%3A/Users/LSN%20-%20Igor/Desktop/github/MAAED/Animes/analise.ipynb#W4sZmlsZQ%3D%3D?line=10'>11</a>\u001b[0m         core_sizes\u001b[39m.\u001b[39mappend(\u001b[39mlen\u001b[39m(core))\n",
      "File \u001b[1;32m~\\AppData\\Local\\Packages\\PythonSoftwareFoundation.Python.3.11_qbz5n2kfra8p0\\LocalCache\\local-packages\\Python311\\site-packages\\networkx\\classes\\backends.py:148\u001b[0m, in \u001b[0;36m_dispatch.<locals>.wrapper\u001b[1;34m(*args, **kwds)\u001b[0m\n\u001b[0;32m    144\u001b[0m         \u001b[39melse\u001b[39;00m:\n\u001b[0;32m    145\u001b[0m             \u001b[39mraise\u001b[39;00m NetworkXNotImplemented(\n\u001b[0;32m    146\u001b[0m                 \u001b[39mf\u001b[39m\u001b[39m\"\u001b[39m\u001b[39m'\u001b[39m\u001b[39m{\u001b[39;00mname\u001b[39m}\u001b[39;00m\u001b[39m'\u001b[39m\u001b[39m not implemented by \u001b[39m\u001b[39m{\u001b[39;00mplugin_name\u001b[39m}\u001b[39;00m\u001b[39m\"\u001b[39m\n\u001b[0;32m    147\u001b[0m             )\n\u001b[1;32m--> 148\u001b[0m \u001b[39mreturn\u001b[39;00m func(\u001b[39m*\u001b[39;49margs, \u001b[39m*\u001b[39;49m\u001b[39m*\u001b[39;49mkwds)\n",
      "File \u001b[1;32m~\\AppData\\Local\\Packages\\PythonSoftwareFoundation.Python.3.11_qbz5n2kfra8p0\\LocalCache\\local-packages\\Python311\\site-packages\\networkx\\algorithms\\core.py:195\u001b[0m, in \u001b[0;36mk_core\u001b[1;34m(G, k, core_number)\u001b[0m\n\u001b[0;32m    192\u001b[0m \u001b[39mdef\u001b[39;00m \u001b[39mk_filter\u001b[39m(v, k, c):\n\u001b[0;32m    193\u001b[0m     \u001b[39mreturn\u001b[39;00m c[v] \u001b[39m>\u001b[39m\u001b[39m=\u001b[39m k\n\u001b[1;32m--> 195\u001b[0m \u001b[39mreturn\u001b[39;00m _core_subgraph(G, k_filter, k, core_number)\n",
      "File \u001b[1;32m~\\AppData\\Local\\Packages\\PythonSoftwareFoundation.Python.3.11_qbz5n2kfra8p0\\LocalCache\\local-packages\\Python311\\site-packages\\networkx\\algorithms\\core.py:142\u001b[0m, in \u001b[0;36m_core_subgraph\u001b[1;34m(G, k_filter, k, core)\u001b[0m\n\u001b[0;32m    140\u001b[0m     k \u001b[39m=\u001b[39m \u001b[39mmax\u001b[39m(core\u001b[39m.\u001b[39mvalues())\n\u001b[0;32m    141\u001b[0m nodes \u001b[39m=\u001b[39m (v \u001b[39mfor\u001b[39;00m v \u001b[39min\u001b[39;00m core \u001b[39mif\u001b[39;00m k_filter(v, k, core))\n\u001b[1;32m--> 142\u001b[0m \u001b[39mreturn\u001b[39;00m G\u001b[39m.\u001b[39;49msubgraph(nodes)\u001b[39m.\u001b[39;49mcopy()\n",
      "File \u001b[1;32m~\\AppData\\Local\\Packages\\PythonSoftwareFoundation.Python.3.11_qbz5n2kfra8p0\\LocalCache\\local-packages\\Python311\\site-packages\\networkx\\classes\\graph.py:1643\u001b[0m, in \u001b[0;36mGraph.copy\u001b[1;34m(self, as_view)\u001b[0m\n\u001b[0;32m   1641\u001b[0m G\u001b[39m.\u001b[39mgraph\u001b[39m.\u001b[39mupdate(\u001b[39mself\u001b[39m\u001b[39m.\u001b[39mgraph)\n\u001b[0;32m   1642\u001b[0m G\u001b[39m.\u001b[39madd_nodes_from((n, d\u001b[39m.\u001b[39mcopy()) \u001b[39mfor\u001b[39;00m n, d \u001b[39min\u001b[39;00m \u001b[39mself\u001b[39m\u001b[39m.\u001b[39m_node\u001b[39m.\u001b[39mitems())\n\u001b[1;32m-> 1643\u001b[0m G\u001b[39m.\u001b[39;49madd_edges_from(\n\u001b[0;32m   1644\u001b[0m     (u, v, datadict\u001b[39m.\u001b[39;49mcopy())\n\u001b[0;32m   1645\u001b[0m     \u001b[39mfor\u001b[39;49;00m u, nbrs \u001b[39min\u001b[39;49;00m \u001b[39mself\u001b[39;49m\u001b[39m.\u001b[39;49m_adj\u001b[39m.\u001b[39;49mitems()\n\u001b[0;32m   1646\u001b[0m     \u001b[39mfor\u001b[39;49;00m v, datadict \u001b[39min\u001b[39;49;00m nbrs\u001b[39m.\u001b[39;49mitems()\n\u001b[0;32m   1647\u001b[0m )\n\u001b[0;32m   1648\u001b[0m \u001b[39mreturn\u001b[39;00m G\n",
      "File \u001b[1;32m~\\AppData\\Local\\Packages\\PythonSoftwareFoundation.Python.3.11_qbz5n2kfra8p0\\LocalCache\\local-packages\\Python311\\site-packages\\networkx\\classes\\graph.py:1035\u001b[0m, in \u001b[0;36mGraph.add_edges_from\u001b[1;34m(self, ebunch_to_add, **attr)\u001b[0m\n\u001b[0;32m   1033\u001b[0m     \u001b[39mself\u001b[39m\u001b[39m.\u001b[39m_adj[v] \u001b[39m=\u001b[39m \u001b[39mself\u001b[39m\u001b[39m.\u001b[39madjlist_inner_dict_factory()\n\u001b[0;32m   1034\u001b[0m     \u001b[39mself\u001b[39m\u001b[39m.\u001b[39m_node[v] \u001b[39m=\u001b[39m \u001b[39mself\u001b[39m\u001b[39m.\u001b[39mnode_attr_dict_factory()\n\u001b[1;32m-> 1035\u001b[0m datadict \u001b[39m=\u001b[39m \u001b[39mself\u001b[39m\u001b[39m.\u001b[39m_adj[u]\u001b[39m.\u001b[39mget(v, \u001b[39mself\u001b[39m\u001b[39m.\u001b[39medge_attr_dict_factory())\n\u001b[0;32m   1036\u001b[0m datadict\u001b[39m.\u001b[39mupdate(attr)\n\u001b[0;32m   1037\u001b[0m datadict\u001b[39m.\u001b[39mupdate(dd)\n",
      "\u001b[1;31mKeyboardInterrupt\u001b[0m: "
     ]
    }
   ],
   "source": [
    "#Demora muuuuuuuuuuuuito\n",
    "k_values = []\n",
    "core_sizes = []\n",
    "\n",
    "# Calcule o k-core para diferentes valores de k\n",
    "max_degree = max(dict(G.degree()).values())\n",
    "with tqdm(total=max_degree) as pbar:\n",
    "    for k in range(1, max_degree + 1):\n",
    "        try:\n",
    "            core = nx.k_core(G, k=k)\n",
    "            k_values.append(k)\n",
    "            core_sizes.append(len(core))\n",
    "        except nx.NetworkXError:\n",
    "            # O k-core não pode ser calculado para esse valor de k\n",
    "            break\n",
    "        pbar.update(1)"
   ]
  },
  {
   "cell_type": "markdown",
   "metadata": {},
   "source": [
    "## Esta igual ao notebook da marvel"
   ]
  },
  {
   "cell_type": "code",
   "execution_count": null,
   "metadata": {},
   "outputs": [],
   "source": [
    "\n",
    "\n",
    "number_nodes_k = []                             # List of number of nodes (k_core)\n",
    "k_core = []                                     # List of all k_core\n",
    "degree_list = [v for d,v in G.degree()]         # List of degree for all nodes\n",
    "nodes_G = [v for v in G.nodes()]                # List of all nodes in original network"
   ]
  },
  {
   "cell_type": "code",
   "execution_count": null,
   "metadata": {},
   "outputs": [],
   "source": [
    "dict_k_core = {}                                # Will save all sites in each k_core\n",
    "# np.unique select just single values in degree_list\n",
    "for i in np.unique(degree_list):\n",
    "    G_ = nx.k_core(G,k=i)                       # Define subgraph from k_core\n",
    "    dict_k_core[f\"k_core_{i}\"] = [v for v in G_.nodes()]\n",
    "    k_core.append(i)                            # Update k_core list\n",
    "    number_nodes_k.append(G_.number_of_nodes()) # Select number of nodes in subgraph\n",
    "    if(G_.number_of_nodes()==0):\n",
    "        G_.clear()                                  \n",
    "        break\n",
    "    G_.clear()                                  # Delete subgraph of memory "
   ]
  },
  {
   "cell_type": "markdown",
   "metadata": {},
   "source": [
    "## Talvez o seja um grafo trivial/discreto"
   ]
  },
  {
   "cell_type": "code",
   "execution_count": null,
   "metadata": {},
   "outputs": [],
   "source": [
    "# Plot number_of_nodes(k_core)\n",
    "plt.figure(figsize=(8,8))\n",
    "ms = 12\n",
    "plt.plot(k_core,number_nodes_k,'o',ms=ms,mec=None,markerfacecolor='w')\n",
    "plt.xscale(\"log\")\n",
    "#plt.yscale(\"log\")\n",
    "plt.ylabel(\"Número de nós\",fontsize=20)\n",
    "plt.xlabel(r\"$k_{core}$\",fontsize=20)\n",
    "plt.xticks(fontsize=12)  \n",
    "plt.yticks(fontsize=12)  \n",
    "plt.show()"
   ]
  },
  {
   "cell_type": "code",
   "execution_count": null,
   "metadata": {},
   "outputs": [],
   "source": [
    "#calcula o grau médio da rede:\n",
    "avg_degree = sum(d * nd for d, nd in nx.average_degree_connectivity(G).items()) / len(G)\n",
    "\n",
    "#Me mostra o sitio com maior grau e menor grau\n",
    "print(f\"Grau médio: {avg_degree}\")"
   ]
  },
  {
   "cell_type": "code",
   "execution_count": null,
   "metadata": {},
   "outputs": [],
   "source": [
    "\n",
    "# Calcule o grau de todos os nós\n",
    "degree_dict = dict(G.degree())\n",
    "\n",
    "# Encontre o nó com o maior grau\n",
    "max_degree_node = max(degree_dict, key=degree_dict.get)\n",
    "max_degree = degree_dict[max_degree_node]\n",
    "\n",
    "# Encontre o nó com o menor grau\n",
    "min_degree_node = min(degree_dict, key=degree_dict.get)\n",
    "min_degree = degree_dict[min_degree_node]\n",
    "\n",
    "print(f\"Vértice com o maior grau: {max_degree_node} (grau {max_degree})\")\n",
    "print(f\"Vértice com o menor grau: {min_degree_node} (grau {min_degree})\")\n"
   ]
  },
  {
   "cell_type": "code",
   "execution_count": null,
   "metadata": {},
   "outputs": [],
   "source": [
    "\n",
    "degree_dict = dict(G.degree())\n",
    "\n",
    "# Encontre o nó com o maior grau\n",
    "max_degree_node = max(degree_dict, key=degree_dict.get)\n",
    "max_degree = degree_dict[max_degree_node]\n",
    "\n",
    "# Remova o nó com o maior grau para encontrar o segundo maior grau\n",
    "degree_dict.pop(max_degree_node)\n",
    "second_max_degree_node = max(degree_dict, key=degree_dict.get)\n",
    "second_max_degree = degree_dict[second_max_degree_node]\n",
    "\n",
    "print(f\"Vértice com o maior grau: {max_degree_node} (grau {max_degree})\")\n",
    "print(f\"Vértice com o segundo maior grau: {second_max_degree_node} (grau {second_max_degree})\")\n"
   ]
  }
 ],
 "metadata": {
  "kernelspec": {
   "display_name": "Python 3",
   "language": "python",
   "name": "python3"
  },
  "language_info": {
   "codemirror_mode": {
    "name": "ipython",
    "version": 3
   },
   "file_extension": ".py",
   "mimetype": "text/x-python",
   "name": "python",
   "nbconvert_exporter": "python",
   "pygments_lexer": "ipython3",
   "version": "3.11.5"
  },
  "orig_nbformat": 4
 },
 "nbformat": 4,
 "nbformat_minor": 2
}

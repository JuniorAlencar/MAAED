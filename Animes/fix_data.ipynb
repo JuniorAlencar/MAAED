{
 "cells": [
  {
   "cell_type": "code",
   "execution_count": 1,
   "metadata": {},
   "outputs": [],
   "source": [
    "import os\n",
    "import glob\n",
    "import pandas as pd\n",
    "import csv"
   ]
  },
  {
   "cell_type": "code",
   "execution_count": 15,
   "metadata": {},
   "outputs": [
    {
     "name": "stdout",
     "output_type": "stream",
     "text": [
      "Dados do arquivo './data\\anime.csv' foram processados e salvos em './data\\anime.txt'\n",
      "Dados do arquivo './data\\anime_anime.csv' foram processados e salvos em './data\\anime_anime.txt'\n",
      "Dados do arquivo './data\\user.csv' foram processados e salvos em './data\\user.txt'\n",
      "Dados do arquivo './data\\user_anime000000000000.csv' foram processados e salvos em './data\\user_anime000000000000.txt'\n",
      "Dados do arquivo './data\\user_anime000000000001.csv' foram processados e salvos em './data\\user_anime000000000001.txt'\n",
      "Dados do arquivo './data\\user_anime000000000002.csv' foram processados e salvos em './data\\user_anime000000000002.txt'\n",
      "Dados do arquivo './data\\user_anime000000000003.csv' foram processados e salvos em './data\\user_anime000000000003.txt'\n",
      "Dados do arquivo './data\\user_anime000000000004.csv' foram processados e salvos em './data\\user_anime000000000004.txt'\n",
      "Dados do arquivo './data\\user_anime000000000005.csv' foram processados e salvos em './data\\user_anime000000000005.txt'\n",
      "Dados do arquivo './data\\user_anime000000000006.csv' foram processados e salvos em './data\\user_anime000000000006.txt'\n",
      "Dados do arquivo './data\\user_anime000000000007.csv' foram processados e salvos em './data\\user_anime000000000007.txt'\n",
      "Dados do arquivo './data\\user_anime000000000008.csv' foram processados e salvos em './data\\user_anime000000000008.txt'\n",
      "Dados do arquivo './data\\user_anime000000000009.csv' foram processados e salvos em './data\\user_anime000000000009.txt'\n",
      "Dados do arquivo './data\\user_anime000000000010.csv' foram processados e salvos em './data\\user_anime000000000010.txt'\n",
      "Dados do arquivo './data\\user_anime000000000011.csv' foram processados e salvos em './data\\user_anime000000000011.txt'\n",
      "Dados do arquivo './data\\user_anime000000000012.csv' foram processados e salvos em './data\\user_anime000000000012.txt'\n",
      "Dados do arquivo './data\\user_anime000000000013.csv' foram processados e salvos em './data\\user_anime000000000013.txt'\n",
      "Dados do arquivo './data\\user_anime000000000014.csv' foram processados e salvos em './data\\user_anime000000000014.txt'\n",
      "Dados do arquivo './data\\user_anime000000000015.csv' foram processados e salvos em './data\\user_anime000000000015.txt'\n",
      "Dados do arquivo './data\\user_anime000000000016.csv' foram processados e salvos em './data\\user_anime000000000016.txt'\n",
      "Dados do arquivo './data\\user_anime000000000017.csv' foram processados e salvos em './data\\user_anime000000000017.txt'\n",
      "Dados do arquivo './data\\user_anime000000000018.csv' foram processados e salvos em './data\\user_anime000000000018.txt'\n",
      "Dados do arquivo './data\\user_anime000000000019.csv' foram processados e salvos em './data\\user_anime000000000019.txt'\n",
      "Dados do arquivo './data\\user_anime000000000020.csv' foram processados e salvos em './data\\user_anime000000000020.txt'\n",
      "Dados do arquivo './data\\user_anime000000000021.csv' foram processados e salvos em './data\\user_anime000000000021.txt'\n",
      "Dados do arquivo './data\\user_anime000000000022.csv' foram processados e salvos em './data\\user_anime000000000022.txt'\n",
      "Dados do arquivo './data\\user_anime000000000023.csv' foram processados e salvos em './data\\user_anime000000000023.txt'\n",
      "Dados do arquivo './data\\user_anime000000000024.csv' foram processados e salvos em './data\\user_anime000000000024.txt'\n",
      "Dados do arquivo './data\\user_anime000000000025.csv' foram processados e salvos em './data\\user_anime000000000025.txt'\n",
      "Dados do arquivo './data\\user_anime000000000026.csv' foram processados e salvos em './data\\user_anime000000000026.txt'\n",
      "Dados do arquivo './data\\user_anime000000000027.csv' foram processados e salvos em './data\\user_anime000000000027.txt'\n",
      "Dados do arquivo './data\\user_anime000000000028.csv' foram processados e salvos em './data\\user_anime000000000028.txt'\n",
      "Dados do arquivo './data\\user_anime000000000029.csv' foram processados e salvos em './data\\user_anime000000000029.txt'\n",
      "Dados do arquivo './data\\user_anime000000000030.csv' foram processados e salvos em './data\\user_anime000000000030.txt'\n",
      "Dados do arquivo './data\\user_anime000000000031.csv' foram processados e salvos em './data\\user_anime000000000031.txt'\n",
      "Dados do arquivo './data\\user_anime000000000032.csv' foram processados e salvos em './data\\user_anime000000000032.txt'\n",
      "Dados do arquivo './data\\user_anime000000000033.csv' foram processados e salvos em './data\\user_anime000000000033.txt'\n",
      "Dados do arquivo './data\\user_anime000000000034.csv' foram processados e salvos em './data\\user_anime000000000034.txt'\n",
      "Dados do arquivo './data\\user_anime000000000035.csv' foram processados e salvos em './data\\user_anime000000000035.txt'\n",
      "Dados do arquivo './data\\user_anime000000000036.csv' foram processados e salvos em './data\\user_anime000000000036.txt'\n",
      "Dados do arquivo './data\\user_anime000000000037.csv' foram processados e salvos em './data\\user_anime000000000037.txt'\n",
      "Dados do arquivo './data\\user_anime000000000038.csv' foram processados e salvos em './data\\user_anime000000000038.txt'\n",
      "Dados do arquivo './data\\user_anime000000000039.csv' foram processados e salvos em './data\\user_anime000000000039.txt'\n",
      "Dados do arquivo './data\\user_anime000000000040.csv' foram processados e salvos em './data\\user_anime000000000040.txt'\n",
      "Dados do arquivo './data\\user_anime000000000041.csv' foram processados e salvos em './data\\user_anime000000000041.txt'\n",
      "Dados do arquivo './data\\user_anime000000000042.csv' foram processados e salvos em './data\\user_anime000000000042.txt'\n",
      "Dados do arquivo './data\\user_anime000000000043.csv' foram processados e salvos em './data\\user_anime000000000043.txt'\n",
      "Dados do arquivo './data\\user_anime000000000044.csv' foram processados e salvos em './data\\user_anime000000000044.txt'\n",
      "Dados do arquivo './data\\user_anime000000000045.csv' foram processados e salvos em './data\\user_anime000000000045.txt'\n",
      "Dados do arquivo './data\\user_anime000000000046.csv' foram processados e salvos em './data\\user_anime000000000046.txt'\n",
      "Dados do arquivo './data\\user_anime000000000047.csv' foram processados e salvos em './data\\user_anime000000000047.txt'\n",
      "Dados do arquivo './data\\user_anime000000000048.csv' foram processados e salvos em './data\\user_anime000000000048.txt'\n",
      "Dados do arquivo './data\\user_anime000000000049.csv' foram processados e salvos em './data\\user_anime000000000049.txt'\n",
      "Dados do arquivo './data\\user_anime000000000050.csv' foram processados e salvos em './data\\user_anime000000000050.txt'\n",
      "Dados do arquivo './data\\user_anime000000000051.csv' foram processados e salvos em './data\\user_anime000000000051.txt'\n",
      "Dados do arquivo './data\\user_anime000000000052.csv' foram processados e salvos em './data\\user_anime000000000052.txt'\n",
      "Dados do arquivo './data\\user_anime000000000053.csv' foram processados e salvos em './data\\user_anime000000000053.txt'\n",
      "Dados do arquivo './data\\user_anime000000000054.csv' foram processados e salvos em './data\\user_anime000000000054.txt'\n",
      "Dados do arquivo './data\\user_anime000000000055.csv' foram processados e salvos em './data\\user_anime000000000055.txt'\n",
      "Dados do arquivo './data\\user_anime000000000056.csv' foram processados e salvos em './data\\user_anime000000000056.txt'\n",
      "Dados do arquivo './data\\user_anime000000000057.csv' foram processados e salvos em './data\\user_anime000000000057.txt'\n",
      "Dados do arquivo './data\\user_anime000000000058.csv' foram processados e salvos em './data\\user_anime000000000058.txt'\n",
      "Dados do arquivo './data\\user_anime000000000059.csv' foram processados e salvos em './data\\user_anime000000000059.txt'\n",
      "Dados do arquivo './data\\user_anime000000000060.csv' foram processados e salvos em './data\\user_anime000000000060.txt'\n",
      "Dados do arquivo './data\\user_anime000000000061.csv' foram processados e salvos em './data\\user_anime000000000061.txt'\n",
      "Dados do arquivo './data\\user_anime000000000062.csv' foram processados e salvos em './data\\user_anime000000000062.txt'\n",
      "Dados do arquivo './data\\user_anime000000000063.csv' foram processados e salvos em './data\\user_anime000000000063.txt'\n",
      "Dados do arquivo './data\\user_anime000000000064.csv' foram processados e salvos em './data\\user_anime000000000064.txt'\n",
      "Dados do arquivo './data\\user_anime000000000065.csv' foram processados e salvos em './data\\user_anime000000000065.txt'\n",
      "Dados do arquivo './data\\user_anime000000000066.csv' foram processados e salvos em './data\\user_anime000000000066.txt'\n",
      "Dados do arquivo './data\\user_anime000000000067.csv' foram processados e salvos em './data\\user_anime000000000067.txt'\n",
      "Dados do arquivo './data\\user_anime000000000068.csv' foram processados e salvos em './data\\user_anime000000000068.txt'\n",
      "Dados do arquivo './data\\user_anime000000000069.csv' foram processados e salvos em './data\\user_anime000000000069.txt'\n",
      "Dados do arquivo './data\\user_user.csv' foram processados e salvos em './data\\user_user.txt'\n"
     ]
    }
   ],
   "source": [
    "#Aumenta o limite que a biblioteca csv consegue abrir arquivos. 300mb.\n",
    "csv.field_size_limit(300 * 1024 * 1024)\n",
    "\n",
    "path = \"./data\"\n",
    "all_files = glob.glob(os.path.join(path, \"*.csv\"))\n",
    "\n",
    "#Função para remover espaços e tabulações extras e substituí-los por um único espaço\n",
    "def remove_spaces_and_tabs(input_string):\n",
    "    return ' '.join(input_string.split())\n",
    "\n",
    "for file in all_files:\n",
    "    file_original = os.path.basename(file)\n",
    "    file_txt = os.path.join(path, file_original[:-4] + \".txt\")\n",
    "    \n",
    "    with open(file, \"r\", encoding=\"utf-8\") as csv_file, open(file_txt, \"w\",encoding=\"utf-8\") as txt_file:\n",
    "        csv_reader = csv.reader(csv_file)\n",
    "        for row in csv_reader:\n",
    "            #Remove espaços e tabulações extras e substituir por um único espaço\n",
    "            cleaned_row = [remove_spaces_and_tabs(field) for field in row]\n",
    "            \n",
    "            #Escreve os campos no arquivo txt separados por espaços\n",
    "            txt_file.write(\" \".join(cleaned_row) + \"\\n\")\n",
    "\n",
    "    print(f\"Dados do arquivo '{file}' foram processados e salvos em '{file_txt}'\")\n"
   ]
  },
  {
   "cell_type": "markdown",
   "metadata": {},
   "source": [
    "<span style=\"color: red;\">SÓ EXECUTE A PROXIMA CÉLULA DEPOIS DE EXECUTAR A ANTERIOR.</span>\n"
   ]
  },
  {
   "cell_type": "code",
   "execution_count": 17,
   "metadata": {},
   "outputs": [],
   "source": [
    "\n",
    "#Exclui todos os arquivos ,csv do caminho path\n",
    "for file in all_files:\n",
    "    os.remove(file)\n"
   ]
  }
 ],
 "metadata": {
  "kernelspec": {
   "display_name": "Python 3",
   "language": "python",
   "name": "python3"
  },
  "language_info": {
   "codemirror_mode": {
    "name": "ipython",
    "version": 3
   },
   "file_extension": ".py",
   "mimetype": "text/x-python",
   "name": "python",
   "nbconvert_exporter": "python",
   "pygments_lexer": "ipython3",
   "version": "3.11.5"
  },
  "orig_nbformat": 4
 },
 "nbformat": 4,
 "nbformat_minor": 2
}

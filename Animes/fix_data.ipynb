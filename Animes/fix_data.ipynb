{
 "cells": [
  {
   "cell_type": "code",
   "execution_count": 13,
   "metadata": {},
   "outputs": [],
   "source": [
    "import os\n",
    "import glob\n",
    "import pandas as pd\n",
    "import csv\n",
    "import numpy as np\n",
    "from time import process_time\n",
    "import re    # RegExr to clean data"
   ]
  },
  {
   "cell_type": "code",
   "execution_count": 2,
   "metadata": {},
   "outputs": [],
   "source": [
    "def csv_to_txt():\n",
    "    # Aumenta o limite que a biblioteca csv consegue abrir arquivos. 300mb.\n",
    "    csv.field_size_limit(300 * 1024 * 1024)\n",
    "\n",
    "    path = \"./data\"\n",
    "    all_files = glob.glob(os.path.join(path, \"*.csv\"))\n",
    "    if(len(all_files)==0):\n",
    "        pass\n",
    "    else:\n",
    "        # Função para remover espaços e tabulações extras e substituí-los por um único espaço\n",
    "        def remove_spaces_and_tabs(input_string):\n",
    "            return ' '.join(input_string.split())\n",
    "\n",
    "        for file in all_files:\n",
    "            file_original = os.path.basename(file)\n",
    "            file_txt = os.path.join(path, file_original[:-4] + \".txt\")\n",
    "            \n",
    "            with open(file, \"r\", encoding=\"utf-8\") as csv_file, open(file_txt, \"w\",encoding=\"utf-8\") as txt_file:\n",
    "                csv_reader = csv.reader(csv_file)\n",
    "                for row in csv_reader:\n",
    "                    # Remove espaços e tabulações extras e substituir por um único espaço\n",
    "                    cleaned_row = [remove_spaces_and_tabs(field) for field in row]\n",
    "                    \n",
    "                    #Escreve os campos no arquivo txt separados por espaços\n",
    "                    txt_file.write(\" \".join(cleaned_row) + \"\\n\")\n",
    "\n",
    "            print(f\"Dados do arquivo '{file}' foram processados e salvos em '{file_txt}'\")\n",
    "            # Remove os arquivos .csv após a conversão\n",
    "            os.remove(file)"
   ]
  },
  {
   "cell_type": "code",
   "execution_count": 29,
   "metadata": {},
   "outputs": [],
   "source": [
    "def dictonary_name_users(Num_samples):\n",
    "    df = pd.read_csv(\"./data/user_user.txt\",sep=\" \") # open file\n",
    "    data_1 = [str(i) for i in df[\"userA\"].values]    # List of name in userA column\n",
    "    data_2 = [str(i) for i in df[\"userB\"].values]    # List of name in userB column\n",
    "    data_T = data_1 + data_2                         # List of all of users\n",
    "    newpath = f\"./data/filter_{Num_samples}/\"\n",
    "    if not os.path.exists(newpath):\n",
    "        os.makedirs(newpath)\n",
    "    \n",
    "    unique_names = np.unique(data_T)                 # Select just unique names\n",
    "\n",
    "    N = len(unique_names)                            # Total number of users\n",
    "    dict_users = np.arange(0,N,1)                    # Create range to dictionary of users_names\n",
    "    dictonary = [f\"{i:06d}\" for i in dict_users]     # dictonary with number [0, N] with same digitals number\n",
    "\n",
    "    dict_converted = {}                              # Dictonary with {name:cod_name}\n",
    "    dict_converted[\"name\"] = unique_names\n",
    "    dict_converted[\"cod_name\"] = dictonary\n",
    "    df1 = pd.DataFrame(data=dict_converted)\n",
    "    df1.to_csv(newpath+ \"dictonary_user.txt\",sep=\" \",index=False)"
   ]
  },
  {
   "cell_type": "code",
   "execution_count": 55,
   "metadata": {},
   "outputs": [],
   "source": [
    "def mapping_users(Num_samples):\n",
    "    newpath = f\"./data/filter_{Num_samples}/\"\n",
    "    if not os.path.exists(newpath):\n",
    "        os.makedirs(newpath)\n",
    "\n",
    "    df = pd.read_csv(\"./data/user_user.txt\",sep=\" \") # open file\n",
    "    df1 = pd.read_csv(newpath+\"dictonary_user.txt\",sep=\" \")\n",
    "\n",
    "    newpath = f\"./data/filter_{Num_samples}/\"\n",
    "    if not os.path.exists(newpath):\n",
    "        os.makedirs(newpath)\n",
    "\n",
    "    data_1 = [str(i) for i in df[\"userA\"].values]    # List of name in userA column\n",
    "    data_2 = [str(i) for i in df[\"userB\"].values]    # List of name in userB column\n",
    "    N = df1.shape[0]\n",
    "    N_samples = int(Num_samples*N)\n",
    "    N_samples = 5\n",
    "    for i in range(N_samples):\n",
    "        t1_start = process_time() \n",
    "\n",
    "        name_1 = data_1[i]\n",
    "        name_2 = data_2[i]\n",
    "\n",
    "        index_1 = np.where(df1[\"name\"]==f\"{name_1}\")[0][0]\n",
    "        index_2 = np.where(df1[\"name\"]==f\"{name_2}\")[0][0]\n",
    "        \n",
    "        df['userA'] = df['userA'].str.replace(f'{name_1}',  f'{index_1}', regex=False)\n",
    "        df['userB'] = df['userB'].str.replace(f'{name_2}',  f'{index_2}', regex=False)\n",
    "        \n",
    "        t1_stop = process_time()\n",
    "        print(f\"term = {i}, rest = {N_samples-i}, time= {t1_stop-t1_start}, estimated_time_to_finish={(t1_stop-t1_start)*(N_samples-i)}\")\n",
    "    df.to_csv(newpath+\"user_user.txt\",sep=\" \",index=False)"
   ]
  },
  {
   "cell_type": "code",
   "execution_count": 6,
   "metadata": {},
   "outputs": [],
   "source": [
    "csv_to_txt()"
   ]
  },
  {
   "cell_type": "code",
   "execution_count": 51,
   "metadata": {},
   "outputs": [],
   "source": [
    "#percentual_data = 0.0000001 \n",
    "#percentual_data = 0.001 \n",
    "percentual_data = 5"
   ]
  },
  {
   "cell_type": "code",
   "execution_count": 56,
   "metadata": {},
   "outputs": [],
   "source": [
    "dictonary_name_users(percentual_data)"
   ]
  },
  {
   "cell_type": "code",
   "execution_count": 57,
   "metadata": {},
   "outputs": [
    {
     "name": "stdout",
     "output_type": "stream",
     "text": [
      "term = 0, rest = 5, time= 3.4402303910001137, estimated_time_to_finish=17.20115195500057\n",
      "term = 1, rest = 4, time= 3.303197851999812, estimated_time_to_finish=13.212791407999248\n",
      "term = 2, rest = 3, time= 3.452541083000142, estimated_time_to_finish=10.357623249000426\n",
      "term = 3, rest = 2, time= 3.5048554210002294, estimated_time_to_finish=7.009710842000459\n",
      "term = 4, rest = 1, time= 3.4604803069996706, estimated_time_to_finish=3.4604803069996706\n"
     ]
    }
   ],
   "source": [
    "mapping_users(percentual_data)"
   ]
  }
 ],
 "metadata": {
  "kernelspec": {
   "display_name": "Python 3",
   "language": "python",
   "name": "python3"
  },
  "language_info": {
   "codemirror_mode": {
    "name": "ipython",
    "version": 3
   },
   "file_extension": ".py",
   "mimetype": "text/x-python",
   "name": "python",
   "nbconvert_exporter": "python",
   "pygments_lexer": "ipython3",
   "version": "3.10.12"
  },
  "orig_nbformat": 4
 },
 "nbformat": 4,
 "nbformat_minor": 2
}

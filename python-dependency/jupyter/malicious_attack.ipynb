{
 "cells": [
  {
   "cell_type": "code",
   "execution_count": 1,
   "metadata": {},
   "outputs": [],
   "source": [
    "from src.attack_network import *\n",
    "import matplotlib as mpl\n",
    "mpl.rcParams['axes.linewidth'] = 1.4 #set the value globally\n",
    "from matplotlib.ticker import (MultipleLocator, AutoMinorLocator)"
   ]
  },
  {
   "cell_type": "code",
   "execution_count": 17,
   "metadata": {},
   "outputs": [],
   "source": [
    "G = create_network()\n",
    "\n",
    "num_divisions = 200\n",
    "N_nodes = len([v for v in G.nodes()])\n",
    "\n",
    "num_nodes_largest = [N_nodes]\n",
    "num_nodes_remove = [0]\n",
    "N_lim = 5200\n",
    "for i in range(1,N_lim):\n",
    "    nodes = [v for v in G.nodes()]\n",
    "    node, degree = max(G.degree, key=lambda x: x[1])\n",
    "    G.remove_node(node)\n",
    "    conditional = are_multiples(len(nodes), num_divisions)\n",
    "\n",
    "    components = list(nx.connected_components(G))\n",
    "    largest_component = max(components, key=len)\n",
    "    largest_subgraph = G.subgraph(largest_component)\n",
    "    nodes = [v for v in largest_subgraph.nodes()]\n",
    "    num_nodes_largest.append(len(nodes))\n",
    "    num_nodes_remove.append(i)\n",
    "num_nodes_largest =  [i/N_nodes for i in num_nodes_largest]\n",
    "num_nodes_remove = [i/N_nodes for i in num_nodes_remove]\n",
    "data_malicious_attack = {\"N_nodes\":num_nodes_largest, \"N_remove\":num_nodes_remove}\n",
    "df_malicious = pd.DataFrame(data=data_malicious_attack)\n",
    "df_malicious.to_csv(\"../data/attack_network/malicious_degree.csv\",index=False,mode=\"w\")\n"
   ]
  },
  {
   "cell_type": "code",
   "execution_count": 19,
   "metadata": {},
   "outputs": [
    {
     "data": {
      "text/html": [
       "<div>\n",
       "<style scoped>\n",
       "    .dataframe tbody tr th:only-of-type {\n",
       "        vertical-align: middle;\n",
       "    }\n",
       "\n",
       "    .dataframe tbody tr th {\n",
       "        vertical-align: top;\n",
       "    }\n",
       "\n",
       "    .dataframe thead th {\n",
       "        text-align: right;\n",
       "    }\n",
       "</style>\n",
       "<table border=\"1\" class=\"dataframe\">\n",
       "  <thead>\n",
       "    <tr style=\"text-align: right;\">\n",
       "      <th></th>\n",
       "      <th>N_nodes</th>\n",
       "      <th>N_remove</th>\n",
       "    </tr>\n",
       "  </thead>\n",
       "  <tbody>\n",
       "    <tr>\n",
       "      <th>0</th>\n",
       "      <td>1.000000</td>\n",
       "      <td>0.000000</td>\n",
       "    </tr>\n",
       "    <tr>\n",
       "      <th>1</th>\n",
       "      <td>0.927521</td>\n",
       "      <td>0.000038</td>\n",
       "    </tr>\n",
       "    <tr>\n",
       "      <th>2</th>\n",
       "      <td>0.890392</td>\n",
       "      <td>0.000076</td>\n",
       "    </tr>\n",
       "    <tr>\n",
       "      <th>3</th>\n",
       "      <td>0.861863</td>\n",
       "      <td>0.000114</td>\n",
       "    </tr>\n",
       "    <tr>\n",
       "      <th>4</th>\n",
       "      <td>0.851444</td>\n",
       "      <td>0.000152</td>\n",
       "    </tr>\n",
       "    <tr>\n",
       "      <th>...</th>\n",
       "      <td>...</td>\n",
       "      <td>...</td>\n",
       "    </tr>\n",
       "    <tr>\n",
       "      <th>5195</th>\n",
       "      <td>0.000076</td>\n",
       "      <td>0.196825</td>\n",
       "    </tr>\n",
       "    <tr>\n",
       "      <th>5196</th>\n",
       "      <td>0.000076</td>\n",
       "      <td>0.196863</td>\n",
       "    </tr>\n",
       "    <tr>\n",
       "      <th>5197</th>\n",
       "      <td>0.000076</td>\n",
       "      <td>0.196901</td>\n",
       "    </tr>\n",
       "    <tr>\n",
       "      <th>5198</th>\n",
       "      <td>0.000076</td>\n",
       "      <td>0.196939</td>\n",
       "    </tr>\n",
       "    <tr>\n",
       "      <th>5199</th>\n",
       "      <td>0.000076</td>\n",
       "      <td>0.196977</td>\n",
       "    </tr>\n",
       "  </tbody>\n",
       "</table>\n",
       "<p>5200 rows × 2 columns</p>\n",
       "</div>"
      ],
      "text/plain": [
       "       N_nodes  N_remove\n",
       "0     1.000000  0.000000\n",
       "1     0.927521  0.000038\n",
       "2     0.890392  0.000076\n",
       "3     0.861863  0.000114\n",
       "4     0.851444  0.000152\n",
       "...        ...       ...\n",
       "5195  0.000076  0.196825\n",
       "5196  0.000076  0.196863\n",
       "5197  0.000076  0.196901\n",
       "5198  0.000076  0.196939\n",
       "5199  0.000076  0.196977\n",
       "\n",
       "[5200 rows x 2 columns]"
      ]
     },
     "execution_count": 19,
     "metadata": {},
     "output_type": "execute_result"
    }
   ],
   "source": [
    "df_malicious"
   ]
  },
  {
   "cell_type": "code",
   "execution_count": 20,
   "metadata": {},
   "outputs": [],
   "source": [
    "index_range_1 = []\n",
    "index_range_2 = []\n",
    "for i in range(len(df_malicious)):\n",
    "    if(df_malicious[\"N_remove\"].values[i]<=0.05):\n",
    "        index_range_1.append(i)\n",
    "    else:\n",
    "        index_range_2.append(i)"
   ]
  },
  {
   "cell_type": "code",
   "execution_count": 114,
   "metadata": {},
   "outputs": [],
   "source": [
    "N_nodes = []\n",
    "N_remove = []\n",
    "factor = len(index_range_1)/40\n",
    "factor\n",
    "for i in range(len(index_range_1)):\n",
    "    if(are_multiples(index_range_1[i], factor)==True):\n",
    "        N_remove.append(df_malicious[\"N_remove\"].values[index_range_1[i]])\n",
    "        N_nodes.append(df_malicious[\"N_nodes\"].values[index_range_1[i]])"
   ]
  },
  {
   "cell_type": "code",
   "execution_count": 106,
   "metadata": {},
   "outputs": [
    {
     "data": {
      "text/plain": [
       "[1.0,\n",
       " 0.6261650375085247,\n",
       " 0.5337576721982269,\n",
       " 0.4642342956732591,\n",
       " 0.4049026293854664,\n",
       " 0.35462605137531256,\n",
       " 0.3081761006289308,\n",
       " 0.2563082518754262,\n",
       " 0.2060316738652724,\n",
       " 0.1557929832537698]"
      ]
     },
     "execution_count": 106,
     "metadata": {},
     "output_type": "execute_result"
    }
   ],
   "source": [
    "N_nodes"
   ]
  },
  {
   "cell_type": "code",
   "execution_count": 98,
   "metadata": {},
   "outputs": [
    {
     "data": {
      "text/plain": [
       "5200"
      ]
     },
     "execution_count": 98,
     "metadata": {},
     "output_type": "execute_result"
    }
   ],
   "source": [
    "len(df_malicious)"
   ]
  },
  {
   "cell_type": "code",
   "execution_count": 115,
   "metadata": {},
   "outputs": [],
   "source": [
    "factor_2 = len(index_range_2)/20\n",
    "factor_2\n",
    "for i in range(len(index_range_2)):\n",
    "    if(are_multiples(index_range_2[i], factor_2)==True):\n",
    "        N_remove.append(df_malicious[\"N_remove\"].values[index_range_2[i]])\n",
    "        N_nodes.append(df_malicious[\"N_nodes\"].values[index_range_2[i]])"
   ]
  },
  {
   "cell_type": "code",
   "execution_count": 53,
   "metadata": {},
   "outputs": [
    {
     "data": {
      "text/plain": [
       "1320"
      ]
     },
     "execution_count": 53,
     "metadata": {},
     "output_type": "execute_result"
    }
   ],
   "source": [
    "index_range_2[0]"
   ]
  },
  {
   "cell_type": "code",
   "execution_count": null,
   "metadata": {},
   "outputs": [],
   "source": [
    "0, 0.05 -> 20 pontos\n",
    "0.05 0.2 -> 6 pontos\n",
    "n+b = 26"
   ]
  },
  {
   "cell_type": "code",
   "execution_count": 74,
   "metadata": {},
   "outputs": [
    {
     "data": {
      "text/plain": [
       "0       0.000000\n",
       "1       0.000038\n",
       "2       0.000076\n",
       "3       0.000114\n",
       "4       0.000152\n",
       "          ...   \n",
       "5195    0.196825\n",
       "5196    0.196863\n",
       "5197    0.196901\n",
       "5198    0.196939\n",
       "5199    0.196977\n",
       "Name: N_remove, Length: 5200, dtype: float64"
      ]
     },
     "execution_count": 74,
     "metadata": {},
     "output_type": "execute_result"
    }
   ],
   "source": [
    "df_malicious[\"N_remove\"]"
   ]
  },
  {
   "cell_type": "code",
   "execution_count": 72,
   "metadata": {},
   "outputs": [
    {
     "data": {
      "text/plain": [
       "[0.0,\n",
       " 0.0025005683109797683,\n",
       " 0.005001136621959537,\n",
       " 0.0075017049329393045,\n",
       " 0.010002273243919073,\n",
       " 0.012502841554898841,\n",
       " 0.015003409865878609,\n",
       " 0.01750397817685838,\n",
       " 0.020004546487838146,\n",
       " 0.022505114798817914,\n",
       " 0.025005683109797682,\n",
       " 0.02750625142077745,\n",
       " 0.030006819731757218,\n",
       " 0.032507388042736986,\n",
       " 0.03500795635371676,\n",
       " 0.03750852466469652,\n",
       " 0.04000909297567629,\n",
       " 0.04250966128665606,\n",
       " 0.04501022959763583,\n",
       " 0.04751079790861559,\n",
       " 0.05512616503750852,\n",
       " 0.0735015533833447,\n",
       " 0.09187694172918087,\n",
       " 0.11025233007501704,\n",
       " 0.12862771842085322,\n",
       " 0.1470031067666894,\n",
       " 0.1653784951125256,\n",
       " 0.18375388345836174]"
      ]
     },
     "execution_count": 72,
     "metadata": {},
     "output_type": "execute_result"
    }
   ],
   "source": [
    "N_remove"
   ]
  },
  {
   "cell_type": "code",
   "execution_count": 116,
   "metadata": {},
   "outputs": [
    {
     "data": {
      "image/png": "[encoded data removed]",
      "text/plain": [
       "<Figure size 640x480 with 1 Axes>"
      ]
     },
     "metadata": {},
     "output_type": "display_data"
    }
   ],
   "source": [
    "plt.plot(N_remove,N_nodes,\"o\")\n",
    "#plt.plot(df_malicious[\"N_remove\"].values,df_malicious[\"N_nodes\"].values,\"o\")\n",
    "#plt.xscale(\"log\")\n",
    "#plt.yscale(\"log\")\n",
    "#plt.xlim([0,1])\n",
    "#plt.ylim([0,1])\n",
    "plt.show()"
   ]
  }
 ],
 "metadata": {
  "kernelspec": {
   "display_name": "Python 3",
   "language": "python",
   "name": "python3"
  },
  "language_info": {
   "codemirror_mode": {
    "name": "ipython",
    "version": 3
   },
   "file_extension": ".py",
   "mimetype": "text/x-python",
   "name": "python",
   "nbconvert_exporter": "python",
   "pygments_lexer": "ipython3",
   "version": "3.11.6"
  }
 },
 "nbformat": 4,
 "nbformat_minor": 2
}

{
 "cells": [
  {
   "cell_type": "code",
   "execution_count": 2,
   "metadata": {},
   "outputs": [],
   "source": [
    "import networkx  as nx\n",
    "import matplotlib.pyplot as plt\n",
    "import pandas as pd\n",
    "import powerlaw\n",
    "import numpy as np\n"
   ]
  },
  {
   "cell_type": "code",
   "execution_count": 7,
   "metadata": {},
   "outputs": [
    {
     "data": {
      "text/html": [
       "<div>\n",
       "<style scoped>\n",
       "    .dataframe tbody tr th:only-of-type {\n",
       "        vertical-align: middle;\n",
       "    }\n",
       "\n",
       "    .dataframe tbody tr th {\n",
       "        vertical-align: top;\n",
       "    }\n",
       "\n",
       "    .dataframe thead th {\n",
       "        text-align: right;\n",
       "    }\n",
       "</style>\n",
       "<table border=\"1\" class=\"dataframe\">\n",
       "  <thead>\n",
       "    <tr style=\"text-align: right;\">\n",
       "      <th></th>\n",
       "      <th>package</th>\n",
       "      <th>requirement</th>\n",
       "    </tr>\n",
       "  </thead>\n",
       "  <tbody>\n",
       "    <tr>\n",
       "      <th>0</th>\n",
       "      <td>17</td>\n",
       "      <td>3544</td>\n",
       "    </tr>\n",
       "    <tr>\n",
       "      <th>1</th>\n",
       "      <td>17</td>\n",
       "      <td>11976</td>\n",
       "    </tr>\n",
       "    <tr>\n",
       "      <th>2</th>\n",
       "      <td>17</td>\n",
       "      <td>12143</td>\n",
       "    </tr>\n",
       "    <tr>\n",
       "      <th>3</th>\n",
       "      <td>17</td>\n",
       "      <td>18112</td>\n",
       "    </tr>\n",
       "    <tr>\n",
       "      <th>4</th>\n",
       "      <td>17</td>\n",
       "      <td>19172</td>\n",
       "    </tr>\n",
       "    <tr>\n",
       "      <th>...</th>\n",
       "      <td>...</td>\n",
       "      <td>...</td>\n",
       "    </tr>\n",
       "    <tr>\n",
       "      <th>73768</th>\n",
       "      <td>26392</td>\n",
       "      <td>20683</td>\n",
       "    </tr>\n",
       "    <tr>\n",
       "      <th>73769</th>\n",
       "      <td>26392</td>\n",
       "      <td>23924</td>\n",
       "    </tr>\n",
       "    <tr>\n",
       "      <th>73770</th>\n",
       "      <td>26392</td>\n",
       "      <td>23965</td>\n",
       "    </tr>\n",
       "    <tr>\n",
       "      <th>73771</th>\n",
       "      <td>26393</td>\n",
       "      <td>14147</td>\n",
       "    </tr>\n",
       "    <tr>\n",
       "      <th>73772</th>\n",
       "      <td>26393</td>\n",
       "      <td>19116</td>\n",
       "    </tr>\n",
       "  </tbody>\n",
       "</table>\n",
       "<p>73773 rows × 2 columns</p>\n",
       "</div>"
      ],
      "text/plain": [
       "      package requirement\n",
       "0          17        3544\n",
       "1          17       11976\n",
       "2          17       12143\n",
       "3          17       18112\n",
       "4          17       19172\n",
       "...       ...         ...\n",
       "73768   26392       20683\n",
       "73769   26392       23924\n",
       "73770   26392       23965\n",
       "73771   26393       14147\n",
       "73772   26393       19116\n",
       "\n",
       "[73773 rows x 2 columns]"
      ]
     },
     "execution_count": 7,
     "metadata": {},
     "output_type": "execute_result"
    }
   ],
   "source": [
    "df_edge = pd.read_csv(\"../data/edges.csv\").astype(\"str\")"
   ]
  },
  {
   "cell_type": "code",
   "execution_count": null,
   "metadata": {},
   "outputs": [],
   "source": [
    "G = nx.from_pandas_edgelist(df_edge,\"package\", \"requirement\",create_using=nx.Graph)\n",
    "degree_sequence = sorted((d for n, d in G.degree()), reverse=True)"
   ]
  },
  {
   "cell_type": "code",
   "execution_count": null,
   "metadata": {},
   "outputs": [],
   "source": [
    "node_with_highest_degree = max(G.nodes(), key=G.degree)\n",
    "highest_degree = G.degree(node_with_highest_degree)\n",
    "print(\"Node with highest degree:\", node_with_highest_degree)\n",
    "print(\"Degree:\", highest_degree)"
   ]
  },
  {
   "cell_type": "code",
   "execution_count": null,
   "metadata": {},
   "outputs": [],
   "source": [
    "def distribution(degree):\n",
    "    hist, bins_edge = np.histogram(degree, bins=np.arange(0.5,10**4+1.5,1), density=True)\n",
    "    \n",
    "    P = hist*np.diff(bins_edge)             # distribution = density*deltaK\n",
    "    K = bins_edge[:-1]+bins_edge[:1]\n",
    "    index_remove = []                       # load index with distribution zero\n",
    "    \n",
    "    for idk,elements in enumerate(P):\n",
    "        if(elements==0):\n",
    "            index_remove.append(idk) \n",
    "    # Removing elements in k_mean and distribution with distribution = 0 (empty box)\n",
    "    p_real = np.delete(P,index_remove)      \n",
    "    k_real = np.delete(K,index_remove)\n",
    "    return k_real,p_real"
   ]
  },
  {
   "cell_type": "code",
   "execution_count": null,
   "metadata": {},
   "outputs": [],
   "source": [
    "k, pk = distribution(degree_sequence)"
   ]
  },
  {
   "cell_type": "code",
   "execution_count": null,
   "metadata": {},
   "outputs": [],
   "source": [
    "data = degree_sequence\n",
    "fit = powerlaw.Fit(data, discrete=True)\n",
    "####\n",
    "figCCDF = fit.plot_pdf(color='b', linewidth=2,label=\"PDF\")\n",
    "fit.power_law.plot_pdf(color='b', linestyle='--', ax=figCCDF,label=\"Regression\")\n",
    "fit.plot_ccdf(color='r', linewidth=2, ax=figCCDF,label=\"CDF\")\n",
    "fit.power_law.plot_ccdf(color='r', linestyle='--', ax=figCCDF,label=\"Regression\")\n",
    "\n",
    "handles, labels = figCCDF.get_legend_handles_labels()\n",
    "leg = figCCDF.legend(handles, labels, loc=3)\n",
    "leg.draw_frame(False)\n",
    "####\n",
    "figCCDF.set_ylabel(u\"Distributions\")\n",
    "figCCDF.set_xlabel(r\"Degree\")\n",
    "filename = '../results/Distributions'\n",
    "plt.savefig(filename+'.pdf', bbox_inches='tight')\n",
    "#savefig(figname+'.eps', bbox_inches='tight')\n"
   ]
  },
  {
   "cell_type": "code",
   "execution_count": null,
   "metadata": {},
   "outputs": [],
   "source": [
    "fit.alpha\n",
    "#fit.xmin"
   ]
  }
 ],
 "metadata": {
  "kernelspec": {
   "display_name": "Python 3",
   "language": "python",
   "name": "python3"
  },
  "language_info": {
   "codemirror_mode": {
    "name": "ipython",
    "version": 3
   },
   "file_extension": ".py",
   "mimetype": "text/x-python",
   "name": "python",
   "nbconvert_exporter": "python",
   "pygments_lexer": "ipython3",
   "version": "3.10.12"
  }
 },
 "nbformat": 4,
 "nbformat_minor": 2
}
